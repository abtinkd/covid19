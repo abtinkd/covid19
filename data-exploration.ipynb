{
 "cells": [
  {
   "cell_type": "markdown",
   "metadata": {},
   "source": [
    "# Outline:\n",
    "* [Configuration](#config)\n",
    "* [Functions](#functions)\n",
    "* [Loading-data](#loading-data)\n",
    "* [Data-manipulation](#manipulation)\n",
    "* [Representation](#representation)"
   ]
  },
  {
   "cell_type": "markdown",
   "metadata": {},
   "source": [
    "# Configuration <a class='anchor' id='config'></a>"
   ]
  },
  {
   "cell_type": "code",
   "execution_count": 1,
   "metadata": {},
   "outputs": [],
   "source": [
    "import numpy as np\n",
    "import pandas as pd\n",
    "import matplotlib.pyplot as plt\n",
    "import datetime\n",
    "\n",
    "\n",
    "url_csse_covid_19_daily_reports = (\"https://github.com/CSSEGISandData/COVID-19/tree/master/\"\n",
    "                                   \"csse_covid_19_data/csse_covid_19_daily_reports\")\n",
    "url_csse_covid_19_daily_reports_us = (\"https://github.com/CSSEGISandData/COVID-19/tree/master/\"\n",
    "                                      \"csse_covid_19_data/csse_covid_19_daily_reports_us\")\n",
    "\n",
    "url_time_series_covid19_confirmed_global = (\"https://raw.githubusercontent.com/CSSEGISandData/COVID-19/master/\"\n",
    "                        \"csse_covid_19_data/csse_covid_19_time_series/time_series_covid19_confirmed_global.csv\")\n",
    "url_time_series_covid19_deaths_global = (\"https://raw.githubusercontent.com/CSSEGISandData/COVID-19/master/\"\n",
    "                        \"csse_covid_19_data/csse_covid_19_time_series/time_series_covid19_deaths_global.csv\")\n",
    "url_time_series_covid19_recovered_global = (\"https://github.com/CSSEGISandData/COVID-19/raw/master/\"\n",
    " \"csse_covid_19_data/csse_covid_19_time_series/time_series_covid19_recovered_global.csv\")\n",
    "\n",
    "url_time_series_covid19_confirmed_US = (\"https://raw.githubusercontent.com/CSSEGISandData/COVID-19/master/\"\n",
    "                        \"csse_covid_19_data/csse_covid_19_time_series/time_series_covid19_confirmed_US.csv\")\n",
    "url_time_series_covid19_deaths_US = (\"https://raw.githubusercontent.com/CSSEGISandData/COVID-19/master/\"\n",
    "                        \"csse_covid_19_data/csse_covid_19_time_series/time_series_covid19_deaths_US.csv\")\n",
    "\n",
    "yesterday = datetime.date.today() - datetime.timedelta(days=1)\n",
    "url_apple_mobility_trends = ('https://covid19-static.cdn-apple.com/covid19-mobility-data/'\n",
    "                             f'2009HotfixDev19/v3/en-us/applemobilitytrends-{yesterday}.csv')\n",
    "url_google_mobility_report = 'https://www.gstatic.com/covid19/mobility/Global_Mobility_Report.csv'"
   ]
  },
  {
   "cell_type": "markdown",
   "metadata": {},
   "source": [
    "# Functions <a class='anchor' id='functions'></a>"
   ]
  },
  {
   "cell_type": "code",
   "execution_count": 2,
   "metadata": {},
   "outputs": [],
   "source": [
    "def load_data(url, dtype=None):    \n",
    "    import os\n",
    "    from six.moves import urllib\n",
    "    _, filename = url.rsplit('/', 1)\n",
    "    filename = str(datetime.date.today()) + '_' + filename\n",
    "    filepath = 'datasets/' + filename\n",
    "    if not os.path.isdir('datasets'):\n",
    "        os.makedirs('datasets')\n",
    "    try:\n",
    "        if not os.path.exists(filepath):\n",
    "            urllib.request.urlretrieve(url, filepath)\n",
    "    except:\n",
    "        print('Could not retrieve ' + url)\n",
    "        raise\n",
    "    return pd.read_csv(filepath, dtype=dtype)\n",
    "\n",
    "def format_columns(df):\n",
    "    column_mapping = {'sub_region_1': 'province_state', 'sub_region_2': 'county', 'admin2': 'county',\n",
    "                 'country/region':'country_region', 'province/state': 'province_state', 'long_': 'long'}    \n",
    "    dates = {}\n",
    "    names = {}\n",
    "    for col in df.columns:\n",
    "        try:\n",
    "            dates[col] = pd.to_datetime(col).date()\n",
    "        except:\n",
    "            names[col] = str.lower(col)\n",
    "    df = df.rename(columns=names).rename(columns=dates)    \n",
    "    cols_order = list(names.values()) + sorted(dates.values(), reverse=True)\n",
    "    df = df[cols_order]\n",
    "    df = df.rename(columns=column_mapping)\n",
    "    if 'county' not in df.columns:\n",
    "        df['county'] = np.nan    \n",
    "    df = df.astype({'country_region': str, 'province_state': str, 'county': str})\n",
    "    return df\n",
    "\n",
    "def format_cells(df):\n",
    "    df = df.copy()\n",
    "    name_mapping = {'The Bahamas':'Bahamas', \"Côte d'Ivoire\":\"Cote d'Ivoire\", 'Myanmar (Burma)': 'Burma', \n",
    "                 'Korea, South': 'South Korea', 'Taiwan*':'Taiwan', 'US': 'United States'} \n",
    "    regex_mapping = {r'\\s(p|P)rovince': '', r'\\s(c|C)ounty': ''}\n",
    "    df = df.replace(to_replace=name_mapping).replace(regex=regex_mapping)\n",
    "    if 'population' in df.columns:\n",
    "        df.loc[df['population'] <= 0, 'population'] = np.nan\n",
    "    return df\n",
    "\n",
    "def sparse_columns(df, sparsity_level=0.5):\n",
    "    return df.columns[df.isna().sum() > df.shape[0] * sparsity_level].values\n"
   ]
  },
  {
   "cell_type": "code",
   "execution_count": 3,
   "metadata": {},
   "outputs": [],
   "source": [
    "def get_time_series_data(url):\n",
    "    df = format_cells(format_columns(load_data(url)))\n",
    "    date_columns = [c for c in df.columns if isinstance(c, datetime.date)]\n",
    "    # melt: Unpivots a DataFrame from wide format to long format\n",
    "    df = df.melt(value_vars=date_columns,\n",
    "                 id_vars=['country_region', 'province_state', 'county'], \n",
    "                 var_name='date', \n",
    "                 value_name='values')\n",
    "    df['date'] = pd.to_datetime(df['date'])\n",
    "    return df.set_index(['country_region', 'province_state', 'county', 'date']).sort_index()"
   ]
  },
  {
   "cell_type": "code",
   "execution_count": 4,
   "metadata": {},
   "outputs": [],
   "source": [
    "def get_google_mobility_data(url):\n",
    "    df_mobility = load_data(url)\n",
    "    df_mobility = format_cells(format_columns(df_mobility))\n",
    "    df_mobility.loc[df_mobility['country_region'] == 'Aruba', \n",
    "                    ['country_region', 'province_state']] = ('Netherlands', 'Aruba')\n",
    "    df_mobility.loc[df_mobility['country_region'] == 'Réunion', \n",
    "                    ['country_region', 'province_state']] = ('France', 'Réunion')\n",
    "    df_mobility.loc[df_mobility['country_region'] == 'Hong Kong'\n",
    "                    , ['country_region', 'province_state']] = ('China', 'Hong Kong')\n",
    "    df_mobility['mobility'] = None\n",
    "    cols = df_mobility.columns[-7:-1]\n",
    "    df_mobility['mobility'] = df_mobility[cols].mean(axis=1).round(1)\n",
    "    df_mobility['date'] = pd.to_datetime(df_mobility['date'])\n",
    "    df_mobility = df_mobility.set_index(['country_region', 'province_state', 'county', 'date']).sort_index()\n",
    "    return df_mobility['mobility']"
   ]
  },
  {
   "cell_type": "code",
   "execution_count": 5,
   "metadata": {},
   "outputs": [],
   "source": [
    "def load_main_dataframe(date=None):\n",
    "    if date is None:\n",
    "        date = datetime.datetime.today().date()\n",
    "    return (pd.read_csv(f'datasets/{date}_df.csv', keep_default_na=False,\n",
    "                        index_col=['country_region', 'province_state', 'county', 'date'], \n",
    "                        dtype={'country_region':str, 'province_state':str, 'county':str},\n",
    "                        parse_dates=True)\n",
    "            .sort_index(level=[0,1,2,3]))\n",
    "\n",
    "def load_xy_dataframe(date=None):\n",
    "    if date is None:\n",
    "        date = datetime.datetime.today().date()\n",
    "    return pd.read_csv(f'datasets/{date}_df-yX.csv', float_precision='high')"
   ]
  },
  {
   "cell_type": "markdown",
   "metadata": {},
   "source": [
    "# Loading data <a class='anchor' id='loading-data'></a>"
   ]
  },
  {
   "cell_type": "markdown",
   "metadata": {},
   "source": [
    "**Fetch time series**"
   ]
  },
  {
   "cell_type": "code",
   "execution_count": 6,
   "metadata": {},
   "outputs": [
    {
     "name": "stdout",
     "output_type": "stream",
     "text": [
      "Wall time: 9.28 s\n"
     ]
    }
   ],
   "source": [
    "%%time\n",
    "df_global_confirmed = get_time_series_data(url_time_series_covid19_confirmed_global).rename(columns={'values':'confirmed'})\n",
    "df_global_deaths = get_time_series_data(url_time_series_covid19_deaths_global).rename(columns={'values':'deaths'})\n",
    "df_us_confirmed = get_time_series_data(url_time_series_covid19_confirmed_US).rename(columns={'values':'confirmed'})\n",
    "df_us_deaths= get_time_series_data(url_time_series_covid19_deaths_US).rename(columns={'values':'deaths'})\n",
    "\n",
    "df_confirmed = df_global_confirmed.append(df_us_confirmed)\n",
    "df_deaths = df_global_deaths.append(df_us_deaths)\n",
    "df = pd.merge(left=df_confirmed, right=df_deaths, left_index=True, right_index=True, how='inner')"
   ]
  },
  {
   "cell_type": "code",
   "execution_count": 7,
   "metadata": {
    "scrolled": true
   },
   "outputs": [
    {
     "data": {
      "text/html": [
       "<div>\n",
       "<style scoped>\n",
       "    .dataframe tbody tr th:only-of-type {\n",
       "        vertical-align: middle;\n",
       "    }\n",
       "\n",
       "    .dataframe tbody tr th {\n",
       "        vertical-align: top;\n",
       "    }\n",
       "\n",
       "    .dataframe thead th {\n",
       "        text-align: right;\n",
       "    }\n",
       "</style>\n",
       "<table border=\"1\" class=\"dataframe\">\n",
       "  <thead>\n",
       "    <tr style=\"text-align: right;\">\n",
       "      <th></th>\n",
       "      <th></th>\n",
       "      <th>confirmed</th>\n",
       "      <th>deaths</th>\n",
       "    </tr>\n",
       "    <tr>\n",
       "      <th>province_state</th>\n",
       "      <th>county</th>\n",
       "      <th></th>\n",
       "      <th></th>\n",
       "    </tr>\n",
       "  </thead>\n",
       "  <tbody>\n",
       "    <tr>\n",
       "      <td>nan</td>\n",
       "      <td>nan</td>\n",
       "      <td>1851520</td>\n",
       "      <td>107175</td>\n",
       "    </tr>\n",
       "    <tr>\n",
       "      <td rowspan=\"4\" valign=\"top\">Alabama</td>\n",
       "      <td>Autauga</td>\n",
       "      <td>239</td>\n",
       "      <td>5</td>\n",
       "    </tr>\n",
       "    <tr>\n",
       "      <td>Baldwin</td>\n",
       "      <td>292</td>\n",
       "      <td>9</td>\n",
       "    </tr>\n",
       "    <tr>\n",
       "      <td>Barbour</td>\n",
       "      <td>177</td>\n",
       "      <td>1</td>\n",
       "    </tr>\n",
       "    <tr>\n",
       "      <td>Bibb</td>\n",
       "      <td>76</td>\n",
       "      <td>1</td>\n",
       "    </tr>\n",
       "    <tr>\n",
       "      <td>...</td>\n",
       "      <td>...</td>\n",
       "      <td>...</td>\n",
       "      <td>...</td>\n",
       "    </tr>\n",
       "    <tr>\n",
       "      <td rowspan=\"5\" valign=\"top\">Wyoming</td>\n",
       "      <td>Teton</td>\n",
       "      <td>100</td>\n",
       "      <td>0</td>\n",
       "    </tr>\n",
       "    <tr>\n",
       "      <td>Uinta</td>\n",
       "      <td>13</td>\n",
       "      <td>0</td>\n",
       "    </tr>\n",
       "    <tr>\n",
       "      <td>Unassigned</td>\n",
       "      <td>0</td>\n",
       "      <td>16</td>\n",
       "    </tr>\n",
       "    <tr>\n",
       "      <td>Washakie</td>\n",
       "      <td>37</td>\n",
       "      <td>0</td>\n",
       "    </tr>\n",
       "    <tr>\n",
       "      <td>Weston</td>\n",
       "      <td>1</td>\n",
       "      <td>0</td>\n",
       "    </tr>\n",
       "  </tbody>\n",
       "</table>\n",
       "<p>3262 rows × 2 columns</p>\n",
       "</div>"
      ],
      "text/plain": [
       "                           confirmed  deaths\n",
       "province_state county                       \n",
       "nan            nan           1851520  107175\n",
       "Alabama        Autauga           239       5\n",
       "               Baldwin           292       9\n",
       "               Barbour           177       1\n",
       "               Bibb               76       1\n",
       "...                              ...     ...\n",
       "Wyoming        Teton             100       0\n",
       "               Uinta              13       0\n",
       "               Unassigned          0      16\n",
       "               Washakie           37       0\n",
       "               Weston              1       0\n",
       "\n",
       "[3262 rows x 2 columns]"
      ]
     },
     "execution_count": 7,
     "metadata": {},
     "output_type": "execute_result"
    }
   ],
   "source": [
    "idx = pd.IndexSlice\n",
    "df.loc[idx['United States', :, :, '2020-06-03']]"
   ]
  },
  {
   "cell_type": "markdown",
   "metadata": {},
   "source": [
    "**Fill mobility trends in different regions of the world**"
   ]
  },
  {
   "cell_type": "code",
   "execution_count": 8,
   "metadata": {},
   "outputs": [
    {
     "name": "stderr",
     "output_type": "stream",
     "text": [
      "C:\\Users\\Abtin\\Miniconda2\\envs\\py36\\lib\\site-packages\\IPython\\core\\magics\\execution.py:1310: DtypeWarning: Columns (3) have mixed types. Specify dtype option on import or set low_memory=False.\n",
      "  exec(code, glob, local_ns)\n"
     ]
    },
    {
     "name": "stdout",
     "output_type": "stream",
     "text": [
      "Wall time: 14.3 s\n"
     ]
    }
   ],
   "source": [
    "%%time\n",
    "df_mobility = get_google_mobility_data(url_google_mobility_report)"
   ]
  },
  {
   "cell_type": "markdown",
   "metadata": {},
   "source": [
    "Merge mobility with our main dataframe"
   ]
  },
  {
   "cell_type": "code",
   "execution_count": 9,
   "metadata": {},
   "outputs": [
    {
     "name": "stdout",
     "output_type": "stream",
     "text": [
      "Wall time: 6.94 s\n"
     ]
    }
   ],
   "source": [
    "%%time\n",
    "df = pd.merge(left=df, right=df_mobility, left_index=True, right_index=True, how='inner')"
   ]
  },
  {
   "cell_type": "code",
   "execution_count": 10,
   "metadata": {},
   "outputs": [],
   "source": [
    "df = df.sort_index()"
   ]
  },
  {
   "cell_type": "code",
   "execution_count": 11,
   "metadata": {},
   "outputs": [
    {
     "data": {
      "text/html": [
       "<div>\n",
       "<style scoped>\n",
       "    .dataframe tbody tr th:only-of-type {\n",
       "        vertical-align: middle;\n",
       "    }\n",
       "\n",
       "    .dataframe tbody tr th {\n",
       "        vertical-align: top;\n",
       "    }\n",
       "\n",
       "    .dataframe thead th {\n",
       "        text-align: right;\n",
       "    }\n",
       "</style>\n",
       "<table border=\"1\" class=\"dataframe\">\n",
       "  <thead>\n",
       "    <tr style=\"text-align: right;\">\n",
       "      <th></th>\n",
       "      <th></th>\n",
       "      <th></th>\n",
       "      <th></th>\n",
       "      <th>confirmed</th>\n",
       "      <th>deaths</th>\n",
       "      <th>mobility</th>\n",
       "    </tr>\n",
       "    <tr>\n",
       "      <th>country_region</th>\n",
       "      <th>province_state</th>\n",
       "      <th>county</th>\n",
       "      <th>date</th>\n",
       "      <th></th>\n",
       "      <th></th>\n",
       "      <th></th>\n",
       "    </tr>\n",
       "  </thead>\n",
       "  <tbody>\n",
       "    <tr>\n",
       "      <td rowspan=\"3\" valign=\"top\">France</td>\n",
       "      <td rowspan=\"3\" valign=\"top\">nan</td>\n",
       "      <td rowspan=\"3\" valign=\"top\">nan</td>\n",
       "      <td>2020-05-25</td>\n",
       "      <td>180166</td>\n",
       "      <td>28407</td>\n",
       "      <td>-16.3</td>\n",
       "    </tr>\n",
       "    <tr>\n",
       "      <td>2020-05-26</td>\n",
       "      <td>179887</td>\n",
       "      <td>28480</td>\n",
       "      <td>-14.2</td>\n",
       "    </tr>\n",
       "    <tr>\n",
       "      <td>2020-05-27</td>\n",
       "      <td>180044</td>\n",
       "      <td>28546</td>\n",
       "      <td>-14.7</td>\n",
       "    </tr>\n",
       "  </tbody>\n",
       "</table>\n",
       "</div>"
      ],
      "text/plain": [
       "                                                 confirmed  deaths  mobility\n",
       "country_region province_state county date                                   \n",
       "France         nan            nan    2020-05-25     180166   28407     -16.3\n",
       "                                     2020-05-26     179887   28480     -14.2\n",
       "                                     2020-05-27     180044   28546     -14.7"
      ]
     },
     "execution_count": 11,
     "metadata": {},
     "output_type": "execute_result"
    }
   ],
   "source": [
    "df.loc[idx['France', :, :, '2020-05-25': '2020-05-27']]"
   ]
  },
  {
   "cell_type": "markdown",
   "metadata": {},
   "source": [
    "**Calculating *new_confirmed* and *new_deaths***"
   ]
  },
  {
   "cell_type": "code",
   "execution_count": 12,
   "metadata": {},
   "outputs": [
    {
     "name": "stdout",
     "output_type": "stream",
     "text": [
      "Wall time: 18.9 ms\n"
     ]
    }
   ],
   "source": [
    "%%time\n",
    "df[['new_confirmed', 'new_deaths']] = df[['confirmed', 'deaths']].diff()"
   ]
  },
  {
   "cell_type": "code",
   "execution_count": 13,
   "metadata": {},
   "outputs": [
    {
     "name": "stdout",
     "output_type": "stream",
     "text": [
      "Wall time: 3.66 s\n"
     ]
    }
   ],
   "source": [
    "%%time\n",
    "headindex, tailindex = [], []\n",
    "for name, group in df.groupby(axis='index', level=[0,1,2]):    \n",
    "    headindex.append(group.index.values[0])\n",
    "    tailindex.append(group.index.values[-1])\n",
    "headindex = pd.MultiIndex.from_tuples(headindex)\n",
    "tailindex = pd.MultiIndex.from_tuples(tailindex)"
   ]
  },
  {
   "cell_type": "code",
   "execution_count": 14,
   "metadata": {},
   "outputs": [
    {
     "name": "stdout",
     "output_type": "stream",
     "text": [
      "Wall time: 528 ms\n"
     ]
    }
   ],
   "source": [
    "%%time\n",
    "df.loc[headindex, 'new_confirmed'] = df.loc[headindex, 'confirmed']\n",
    "df.loc[headindex, 'new_deaths'] = df.loc[headindex, 'deaths']"
   ]
  },
  {
   "cell_type": "markdown",
   "metadata": {},
   "source": [
    "**Saving our dataset:**"
   ]
  },
  {
   "cell_type": "code",
   "execution_count": 15,
   "metadata": {},
   "outputs": [],
   "source": [
    "df['new_deaths'] = df['new_deaths'].astype('Int32')\n",
    "df['new_confirmed'] = df['new_confirmed'].astype('Int32')\n",
    "df = df[['mobility', 'confirmed', 'new_confirmed', 'deaths', 'new_deaths']]\n",
    "df.to_csv(f'datasets/{datetime.datetime.today().date()}_df.csv', index=True)"
   ]
  },
  {
   "cell_type": "markdown",
   "metadata": {},
   "source": [
    "# Data Manipulation <a class='anchor' id='manipulation'></a>"
   ]
  },
  {
   "cell_type": "markdown",
   "metadata": {},
   "source": [
    "Use final week as of indicator"
   ]
  },
  {
   "cell_type": "code",
   "execution_count": 16,
   "metadata": {},
   "outputs": [],
   "source": [
    "df = load_main_dataframe()"
   ]
  },
  {
   "cell_type": "code",
   "execution_count": 17,
   "metadata": {},
   "outputs": [
    {
     "name": "stdout",
     "output_type": "stream",
     "text": [
      "Predictor period: (Timestamp('2020-04-23 00:00:00'), Timestamp('2020-05-21 00:00:00'))\n",
      "Indicator period: (Timestamp('2020-05-22 00:00:00'), Timestamp('2020-05-29 00:00:00'))\n"
     ]
    }
   ],
   "source": [
    "week = pd.Timedelta('7 days')\n",
    "day = pd.Timedelta('1 day')\n",
    "closing_date = df.index.levels[3].max()\n",
    "indicator_period = (closing_date - week, closing_date)\n",
    "predictor_period = (closing_date - 5 * week - day, closing_date - week - day)\n",
    "print('Predictor period:', predictor_period)\n",
    "print('Indicator period:', indicator_period)\n",
    "df_indicator = df.loc[idx[:,:,:, indicator_period[0]: indicator_period[1]], :].copy()\n",
    "df_predictor = df.loc[idx[:,:,:, predictor_period[0]: predictor_period[1]], :].copy()"
   ]
  },
  {
   "cell_type": "code",
   "execution_count": 18,
   "metadata": {},
   "outputs": [
    {
     "name": "stdout",
     "output_type": "stream",
     "text": [
      "Number of locations missing in df_predictor: 2873\n",
      "Wall time: 37.7 s\n"
     ]
    }
   ],
   "source": [
    "%%time\n",
    "not_included = []\n",
    "for name , group in df_indicator.groupby(axis='index', level=[0,1,2]):\n",
    "    try:\n",
    "        df_predictor.loc[name, '_n_c_baseline'] = df_predictor.loc[name, 'new_confirmed'].median()\n",
    "        df_predictor.loc[name, '_n_d_baseline'] = df_predictor.loc[name, 'new_deaths'].median()\n",
    "        df_indicator.loc[name, '_n_c_baseline'] = df_indicator.loc[name, 'new_confirmed'].median()\n",
    "        df_indicator.loc[name, '_n_d_baseline'] = df_indicator.loc[name, 'new_deaths'].median()\n",
    "        count_names += 1\n",
    "    except:\n",
    "        not_included.append(name)\n",
    "print('Number of locations missing in df_predictor:', len(not_included))"
   ]
  },
  {
   "cell_type": "code",
   "execution_count": 19,
   "metadata": {},
   "outputs": [],
   "source": [
    "df_predictor['_new_death_change_rate'] = (\n",
    "    (df_predictor['new_deaths'] - df_predictor['_n_d_baseline']) / (df_predictor['_n_d_baseline'] + 1.01))\n",
    "df_indicator['_new_death_change_rate'] = (\n",
    "    (df_indicator['new_deaths'] - df_indicator['_n_d_baseline']) / (df_indicator['_n_d_baseline'] + 1.01))\n",
    "df_predictor['_new_confirmed_change_rate'] = (\n",
    "    (df_predictor['new_confirmed'] - df_predictor['_n_c_baseline']) / (df_predictor['_n_c_baseline'] + 1.01))\n",
    "df_indicator['_new_confirmed_change_rate'] = (\n",
    "    (df_indicator['new_confirmed'] - df_indicator['_n_c_baseline']) / (df_indicator['_n_c_baseline'] + 1.01))\n",
    "df_predictor[['_new_confirmed_change_rate', '_new_death_change_rate']] = (100 *\n",
    "    df_predictor[['_new_confirmed_change_rate', '_new_death_change_rate']]).round(3)\n",
    "df_indicator[['_new_confirmed_change_rate', '_new_death_change_rate']] = (100 *\n",
    "    df_indicator[['_new_confirmed_change_rate', '_new_death_change_rate']].round(3))"
   ]
  },
  {
   "cell_type": "code",
   "execution_count": 20,
   "metadata": {},
   "outputs": [
    {
     "name": "stdout",
     "output_type": "stream",
     "text": [
      "Wall time: 2.99 s\n"
     ]
    }
   ],
   "source": [
    "%%time\n",
    "df_y = (df_indicator[['new_confirmed', 'new_deaths', '_new_death_change_rate', '_new_confirmed_change_rate']]\n",
    "        .groupby(axis='index', level=[0,1,2])\n",
    "        .agg(np.average)\n",
    "        .round(3))\n",
    "df_y = df_y.dropna(subset=['_new_death_change_rate', '_new_confirmed_change_rate'])\n",
    "df_y.columns = [f'Y_weekavg_{x}' for x in df_y.columns.ravel()]"
   ]
  },
  {
   "cell_type": "code",
   "execution_count": 21,
   "metadata": {},
   "outputs": [
    {
     "data": {
      "text/html": [
       "<div>\n",
       "<style scoped>\n",
       "    .dataframe tbody tr th:only-of-type {\n",
       "        vertical-align: middle;\n",
       "    }\n",
       "\n",
       "    .dataframe tbody tr th {\n",
       "        vertical-align: top;\n",
       "    }\n",
       "\n",
       "    .dataframe thead th {\n",
       "        text-align: right;\n",
       "    }\n",
       "</style>\n",
       "<table border=\"1\" class=\"dataframe\">\n",
       "  <thead>\n",
       "    <tr style=\"text-align: right;\">\n",
       "      <th></th>\n",
       "      <th></th>\n",
       "      <th></th>\n",
       "      <th>Y_weekavg_new_confirmed</th>\n",
       "      <th>Y_weekavg_new_deaths</th>\n",
       "      <th>Y_weekavg__new_death_change_rate</th>\n",
       "      <th>Y_weekavg__new_confirmed_change_rate</th>\n",
       "    </tr>\n",
       "    <tr>\n",
       "      <th>country_region</th>\n",
       "      <th>province_state</th>\n",
       "      <th>county</th>\n",
       "      <th></th>\n",
       "      <th></th>\n",
       "      <th></th>\n",
       "      <th></th>\n",
       "    </tr>\n",
       "  </thead>\n",
       "  <tbody>\n",
       "    <tr>\n",
       "      <td>Afghanistan</td>\n",
       "      <td>nan</td>\n",
       "      <td>nan</td>\n",
       "      <td>622.875</td>\n",
       "      <td>6.625</td>\n",
       "      <td>-10.288</td>\n",
       "      <td>2.625</td>\n",
       "    </tr>\n",
       "    <tr>\n",
       "      <td>Angola</td>\n",
       "      <td>nan</td>\n",
       "      <td>nan</td>\n",
       "      <td>2.875</td>\n",
       "      <td>0.125</td>\n",
       "      <td>12.375</td>\n",
       "      <td>54.787</td>\n",
       "    </tr>\n",
       "    <tr>\n",
       "      <td>Antigua and Barbuda</td>\n",
       "      <td>nan</td>\n",
       "      <td>nan</td>\n",
       "      <td>0.000</td>\n",
       "      <td>0.000</td>\n",
       "      <td>0.000</td>\n",
       "      <td>0.000</td>\n",
       "    </tr>\n",
       "  </tbody>\n",
       "</table>\n",
       "</div>"
      ],
      "text/plain": [
       "                                           Y_weekavg_new_confirmed  \\\n",
       "country_region      province_state county                            \n",
       "Afghanistan         nan            nan                     622.875   \n",
       "Angola              nan            nan                       2.875   \n",
       "Antigua and Barbuda nan            nan                       0.000   \n",
       "\n",
       "                                           Y_weekavg_new_deaths  \\\n",
       "country_region      province_state county                         \n",
       "Afghanistan         nan            nan                    6.625   \n",
       "Angola              nan            nan                    0.125   \n",
       "Antigua and Barbuda nan            nan                    0.000   \n",
       "\n",
       "                                           Y_weekavg__new_death_change_rate  \\\n",
       "country_region      province_state county                                     \n",
       "Afghanistan         nan            nan                              -10.288   \n",
       "Angola              nan            nan                               12.375   \n",
       "Antigua and Barbuda nan            nan                                0.000   \n",
       "\n",
       "                                           Y_weekavg__new_confirmed_change_rate  \n",
       "country_region      province_state county                                        \n",
       "Afghanistan         nan            nan                                    2.625  \n",
       "Angola              nan            nan                                   54.787  \n",
       "Antigua and Barbuda nan            nan                                    0.000  "
      ]
     },
     "execution_count": 21,
     "metadata": {},
     "output_type": "execute_result"
    }
   ],
   "source": [
    "df_y.head(3)"
   ]
  },
  {
   "cell_type": "code",
   "execution_count": 22,
   "metadata": {},
   "outputs": [
    {
     "data": {
      "text/plain": [
       "<matplotlib.axes._subplots.AxesSubplot at 0x21aad970>"
      ]
     },
     "execution_count": 22,
     "metadata": {},
     "output_type": "execute_result"
    },
    {
     "data": {
      "image/png": "[encoded data removed]",
      "text/plain": [
       "<Figure size 864x360 with 1 Axes>"
      ]
     },
     "metadata": {
      "needs_background": "light"
     },
     "output_type": "display_data"
    }
   ],
   "source": [
    "df_predictor.loc[idx['Afghanistan'], '_new_death_change_rate'].plot(figsize=(12, 5))"
   ]
  },
  {
   "cell_type": "code",
   "execution_count": 23,
   "metadata": {},
   "outputs": [
    {
     "name": "stdout",
     "output_type": "stream",
     "text": [
      "Wall time: 2.71 s\n"
     ]
    }
   ],
   "source": [
    "%%time\n",
    "yindex = set(df_y.index.ravel())\n",
    "xindex = []\n",
    "for name, group in df_predictor.groupby(axis='index', level=[0,1,2]):\n",
    "    if name in yindex:\n",
    "        xindex += [*group.index.values]"
   ]
  },
  {
   "cell_type": "code",
   "execution_count": 24,
   "metadata": {},
   "outputs": [
    {
     "name": "stdout",
     "output_type": "stream",
     "text": [
      "Wall time: 1.17 s\n"
     ]
    }
   ],
   "source": [
    "%%time\n",
    "xindex = pd.MultiIndex.from_tuples(xindex)\n",
    "df_predictor = df_predictor.loc[xindex]"
   ]
  },
  {
   "cell_type": "code",
   "execution_count": 25,
   "metadata": {},
   "outputs": [],
   "source": [
    "df_X = (df_predictor\n",
    "        .reset_index()\n",
    "        .pivot_table(values=['mobility', '_new_death_change_rate', '_new_confirmed_change_rate'], \n",
    "                     index=['country_region', 'province_state', 'county'], \n",
    "                     columns=['date']))\n",
    "df_X.columns = [f'X_{x[0]}_{x[1].date()}' for x in df_X.columns]"
   ]
  },
  {
   "cell_type": "code",
   "execution_count": 26,
   "metadata": {},
   "outputs": [
    {
     "data": {
      "text/html": [
       "<div>\n",
       "<style scoped>\n",
       "    .dataframe tbody tr th:only-of-type {\n",
       "        vertical-align: middle;\n",
       "    }\n",
       "\n",
       "    .dataframe tbody tr th {\n",
       "        vertical-align: top;\n",
       "    }\n",
       "\n",
       "    .dataframe thead th {\n",
       "        text-align: right;\n",
       "    }\n",
       "</style>\n",
       "<table border=\"1\" class=\"dataframe\">\n",
       "  <thead>\n",
       "    <tr style=\"text-align: right;\">\n",
       "      <th></th>\n",
       "      <th></th>\n",
       "      <th></th>\n",
       "      <th>X__new_confirmed_change_rate_2020-04-23</th>\n",
       "      <th>X__new_confirmed_change_rate_2020-04-24</th>\n",
       "      <th>X__new_confirmed_change_rate_2020-04-25</th>\n",
       "      <th>X__new_confirmed_change_rate_2020-04-26</th>\n",
       "      <th>X__new_confirmed_change_rate_2020-04-27</th>\n",
       "      <th>X__new_confirmed_change_rate_2020-04-28</th>\n",
       "      <th>X__new_confirmed_change_rate_2020-04-29</th>\n",
       "      <th>X__new_confirmed_change_rate_2020-04-30</th>\n",
       "      <th>X__new_confirmed_change_rate_2020-05-01</th>\n",
       "      <th>X__new_confirmed_change_rate_2020-05-02</th>\n",
       "      <th>...</th>\n",
       "      <th>X_mobility_2020-05-12</th>\n",
       "      <th>X_mobility_2020-05-13</th>\n",
       "      <th>X_mobility_2020-05-14</th>\n",
       "      <th>X_mobility_2020-05-15</th>\n",
       "      <th>X_mobility_2020-05-16</th>\n",
       "      <th>X_mobility_2020-05-17</th>\n",
       "      <th>X_mobility_2020-05-18</th>\n",
       "      <th>X_mobility_2020-05-19</th>\n",
       "      <th>X_mobility_2020-05-20</th>\n",
       "      <th>X_mobility_2020-05-21</th>\n",
       "    </tr>\n",
       "    <tr>\n",
       "      <th>country_region</th>\n",
       "      <th>province_state</th>\n",
       "      <th>county</th>\n",
       "      <th></th>\n",
       "      <th></th>\n",
       "      <th></th>\n",
       "      <th></th>\n",
       "      <th></th>\n",
       "      <th></th>\n",
       "      <th></th>\n",
       "      <th></th>\n",
       "      <th></th>\n",
       "      <th></th>\n",
       "      <th></th>\n",
       "      <th></th>\n",
       "      <th></th>\n",
       "      <th></th>\n",
       "      <th></th>\n",
       "      <th></th>\n",
       "      <th></th>\n",
       "      <th></th>\n",
       "      <th></th>\n",
       "      <th></th>\n",
       "      <th></th>\n",
       "    </tr>\n",
       "  </thead>\n",
       "  <tbody>\n",
       "    <tr>\n",
       "      <td>Afghanistan</td>\n",
       "      <td>nan</td>\n",
       "      <td>nan</td>\n",
       "      <td>-55.93</td>\n",
       "      <td>-69.065</td>\n",
       "      <td>-52.116</td>\n",
       "      <td>-70.76</td>\n",
       "      <td>-26.694</td>\n",
       "      <td>-46.608</td>\n",
       "      <td>-52.54</td>\n",
       "      <td>-1.271</td>\n",
       "      <td>-30.083</td>\n",
       "      <td>-42.795</td>\n",
       "      <td>...</td>\n",
       "      <td>-21.8</td>\n",
       "      <td>-21.7</td>\n",
       "      <td>-20.3</td>\n",
       "      <td>-9.3</td>\n",
       "      <td>-14.3</td>\n",
       "      <td>-20.0</td>\n",
       "      <td>-15.8</td>\n",
       "      <td>-16.8</td>\n",
       "      <td>-17.2</td>\n",
       "      <td>-15.7</td>\n",
       "    </tr>\n",
       "    <tr>\n",
       "      <td>Angola</td>\n",
       "      <td>nan</td>\n",
       "      <td>nan</td>\n",
       "      <td>0.00</td>\n",
       "      <td>0.000</td>\n",
       "      <td>0.000</td>\n",
       "      <td>99.01</td>\n",
       "      <td>99.010</td>\n",
       "      <td>0.000</td>\n",
       "      <td>0.00</td>\n",
       "      <td>0.000</td>\n",
       "      <td>297.030</td>\n",
       "      <td>495.050</td>\n",
       "      <td>...</td>\n",
       "      <td>-21.2</td>\n",
       "      <td>-23.0</td>\n",
       "      <td>-20.3</td>\n",
       "      <td>-22.3</td>\n",
       "      <td>-15.5</td>\n",
       "      <td>-26.3</td>\n",
       "      <td>-22.2</td>\n",
       "      <td>-22.0</td>\n",
       "      <td>-23.7</td>\n",
       "      <td>-20.5</td>\n",
       "    </tr>\n",
       "    <tr>\n",
       "      <td>Antigua and Barbuda</td>\n",
       "      <td>nan</td>\n",
       "      <td>nan</td>\n",
       "      <td>0.00</td>\n",
       "      <td>0.000</td>\n",
       "      <td>0.000</td>\n",
       "      <td>0.00</td>\n",
       "      <td>0.000</td>\n",
       "      <td>0.000</td>\n",
       "      <td>0.00</td>\n",
       "      <td>0.000</td>\n",
       "      <td>99.010</td>\n",
       "      <td>0.000</td>\n",
       "      <td>...</td>\n",
       "      <td>-30.2</td>\n",
       "      <td>-30.3</td>\n",
       "      <td>-27.5</td>\n",
       "      <td>-24.0</td>\n",
       "      <td>-34.0</td>\n",
       "      <td>-38.8</td>\n",
       "      <td>-25.0</td>\n",
       "      <td>-26.3</td>\n",
       "      <td>-25.8</td>\n",
       "      <td>-25.3</td>\n",
       "    </tr>\n",
       "  </tbody>\n",
       "</table>\n",
       "<p>3 rows × 87 columns</p>\n",
       "</div>"
      ],
      "text/plain": [
       "                                           X__new_confirmed_change_rate_2020-04-23  \\\n",
       "country_region      province_state county                                            \n",
       "Afghanistan         nan            nan                                      -55.93   \n",
       "Angola              nan            nan                                        0.00   \n",
       "Antigua and Barbuda nan            nan                                        0.00   \n",
       "\n",
       "                                           X__new_confirmed_change_rate_2020-04-24  \\\n",
       "country_region      province_state county                                            \n",
       "Afghanistan         nan            nan                                     -69.065   \n",
       "Angola              nan            nan                                       0.000   \n",
       "Antigua and Barbuda nan            nan                                       0.000   \n",
       "\n",
       "                                           X__new_confirmed_change_rate_2020-04-25  \\\n",
       "country_region      province_state county                                            \n",
       "Afghanistan         nan            nan                                     -52.116   \n",
       "Angola              nan            nan                                       0.000   \n",
       "Antigua and Barbuda nan            nan                                       0.000   \n",
       "\n",
       "                                           X__new_confirmed_change_rate_2020-04-26  \\\n",
       "country_region      province_state county                                            \n",
       "Afghanistan         nan            nan                                      -70.76   \n",
       "Angola              nan            nan                                       99.01   \n",
       "Antigua and Barbuda nan            nan                                        0.00   \n",
       "\n",
       "                                           X__new_confirmed_change_rate_2020-04-27  \\\n",
       "country_region      province_state county                                            \n",
       "Afghanistan         nan            nan                                     -26.694   \n",
       "Angola              nan            nan                                      99.010   \n",
       "Antigua and Barbuda nan            nan                                       0.000   \n",
       "\n",
       "                                           X__new_confirmed_change_rate_2020-04-28  \\\n",
       "country_region      province_state county                                            \n",
       "Afghanistan         nan            nan                                     -46.608   \n",
       "Angola              nan            nan                                       0.000   \n",
       "Antigua and Barbuda nan            nan                                       0.000   \n",
       "\n",
       "                                           X__new_confirmed_change_rate_2020-04-29  \\\n",
       "country_region      province_state county                                            \n",
       "Afghanistan         nan            nan                                      -52.54   \n",
       "Angola              nan            nan                                        0.00   \n",
       "Antigua and Barbuda nan            nan                                        0.00   \n",
       "\n",
       "                                           X__new_confirmed_change_rate_2020-04-30  \\\n",
       "country_region      province_state county                                            \n",
       "Afghanistan         nan            nan                                      -1.271   \n",
       "Angola              nan            nan                                       0.000   \n",
       "Antigua and Barbuda nan            nan                                       0.000   \n",
       "\n",
       "                                           X__new_confirmed_change_rate_2020-05-01  \\\n",
       "country_region      province_state county                                            \n",
       "Afghanistan         nan            nan                                     -30.083   \n",
       "Angola              nan            nan                                     297.030   \n",
       "Antigua and Barbuda nan            nan                                      99.010   \n",
       "\n",
       "                                           X__new_confirmed_change_rate_2020-05-02  \\\n",
       "country_region      province_state county                                            \n",
       "Afghanistan         nan            nan                                     -42.795   \n",
       "Angola              nan            nan                                     495.050   \n",
       "Antigua and Barbuda nan            nan                                       0.000   \n",
       "\n",
       "                                           ...  X_mobility_2020-05-12  \\\n",
       "country_region      province_state county  ...                          \n",
       "Afghanistan         nan            nan     ...                  -21.8   \n",
       "Angola              nan            nan     ...                  -21.2   \n",
       "Antigua and Barbuda nan            nan     ...                  -30.2   \n",
       "\n",
       "                                           X_mobility_2020-05-13  \\\n",
       "country_region      province_state county                          \n",
       "Afghanistan         nan            nan                     -21.7   \n",
       "Angola              nan            nan                     -23.0   \n",
       "Antigua and Barbuda nan            nan                     -30.3   \n",
       "\n",
       "                                           X_mobility_2020-05-14  \\\n",
       "country_region      province_state county                          \n",
       "Afghanistan         nan            nan                     -20.3   \n",
       "Angola              nan            nan                     -20.3   \n",
       "Antigua and Barbuda nan            nan                     -27.5   \n",
       "\n",
       "                                           X_mobility_2020-05-15  \\\n",
       "country_region      province_state county                          \n",
       "Afghanistan         nan            nan                      -9.3   \n",
       "Angola              nan            nan                     -22.3   \n",
       "Antigua and Barbuda nan            nan                     -24.0   \n",
       "\n",
       "                                           X_mobility_2020-05-16  \\\n",
       "country_region      province_state county                          \n",
       "Afghanistan         nan            nan                     -14.3   \n",
       "Angola              nan            nan                     -15.5   \n",
       "Antigua and Barbuda nan            nan                     -34.0   \n",
       "\n",
       "                                           X_mobility_2020-05-17  \\\n",
       "country_region      province_state county                          \n",
       "Afghanistan         nan            nan                     -20.0   \n",
       "Angola              nan            nan                     -26.3   \n",
       "Antigua and Barbuda nan            nan                     -38.8   \n",
       "\n",
       "                                           X_mobility_2020-05-18  \\\n",
       "country_region      province_state county                          \n",
       "Afghanistan         nan            nan                     -15.8   \n",
       "Angola              nan            nan                     -22.2   \n",
       "Antigua and Barbuda nan            nan                     -25.0   \n",
       "\n",
       "                                           X_mobility_2020-05-19  \\\n",
       "country_region      province_state county                          \n",
       "Afghanistan         nan            nan                     -16.8   \n",
       "Angola              nan            nan                     -22.0   \n",
       "Antigua and Barbuda nan            nan                     -26.3   \n",
       "\n",
       "                                           X_mobility_2020-05-20  \\\n",
       "country_region      province_state county                          \n",
       "Afghanistan         nan            nan                     -17.2   \n",
       "Angola              nan            nan                     -23.7   \n",
       "Antigua and Barbuda nan            nan                     -25.8   \n",
       "\n",
       "                                           X_mobility_2020-05-21  \n",
       "country_region      province_state county                         \n",
       "Afghanistan         nan            nan                     -15.7  \n",
       "Angola              nan            nan                     -20.5  \n",
       "Antigua and Barbuda nan            nan                     -25.3  \n",
       "\n",
       "[3 rows x 87 columns]"
      ]
     },
     "execution_count": 26,
     "metadata": {},
     "output_type": "execute_result"
    }
   ],
   "source": [
    "df_X.head(3)"
   ]
  },
  {
   "cell_type": "code",
   "execution_count": 27,
   "metadata": {},
   "outputs": [
    {
     "data": {
      "text/plain": [
       "True"
      ]
     },
     "execution_count": 27,
     "metadata": {},
     "output_type": "execute_result"
    }
   ],
   "source": [
    "df_X.index.equals(df_y.index)"
   ]
  },
  {
   "cell_type": "code",
   "execution_count": 28,
   "metadata": {},
   "outputs": [
    {
     "data": {
      "text/html": [
       "<div>\n",
       "<style scoped>\n",
       "    .dataframe tbody tr th:only-of-type {\n",
       "        vertical-align: middle;\n",
       "    }\n",
       "\n",
       "    .dataframe tbody tr th {\n",
       "        vertical-align: top;\n",
       "    }\n",
       "\n",
       "    .dataframe thead th {\n",
       "        text-align: right;\n",
       "    }\n",
       "</style>\n",
       "<table border=\"1\" class=\"dataframe\">\n",
       "  <thead>\n",
       "    <tr style=\"text-align: right;\">\n",
       "      <th></th>\n",
       "      <th>location</th>\n",
       "      <th>Y_weekavg_new_confirmed</th>\n",
       "      <th>Y_weekavg_new_deaths</th>\n",
       "      <th>Y_weekavg__new_death_change_rate</th>\n",
       "      <th>Y_weekavg__new_confirmed_change_rate</th>\n",
       "      <th>X__new_confirmed_change_rate_2020-04-23</th>\n",
       "      <th>X__new_confirmed_change_rate_2020-04-24</th>\n",
       "      <th>X__new_confirmed_change_rate_2020-04-25</th>\n",
       "      <th>X__new_confirmed_change_rate_2020-04-26</th>\n",
       "      <th>X__new_confirmed_change_rate_2020-04-27</th>\n",
       "      <th>...</th>\n",
       "      <th>X_mobility_2020-05-12</th>\n",
       "      <th>X_mobility_2020-05-13</th>\n",
       "      <th>X_mobility_2020-05-14</th>\n",
       "      <th>X_mobility_2020-05-15</th>\n",
       "      <th>X_mobility_2020-05-16</th>\n",
       "      <th>X_mobility_2020-05-17</th>\n",
       "      <th>X_mobility_2020-05-18</th>\n",
       "      <th>X_mobility_2020-05-19</th>\n",
       "      <th>X_mobility_2020-05-20</th>\n",
       "      <th>X_mobility_2020-05-21</th>\n",
       "    </tr>\n",
       "  </thead>\n",
       "  <tbody>\n",
       "    <tr>\n",
       "      <td>0</td>\n",
       "      <td>Afghanistan</td>\n",
       "      <td>622.875</td>\n",
       "      <td>6.625</td>\n",
       "      <td>-10.288</td>\n",
       "      <td>2.625</td>\n",
       "      <td>-55.93</td>\n",
       "      <td>-69.065</td>\n",
       "      <td>-52.116</td>\n",
       "      <td>-70.76</td>\n",
       "      <td>-26.694</td>\n",
       "      <td>...</td>\n",
       "      <td>-21.8</td>\n",
       "      <td>-21.7</td>\n",
       "      <td>-20.3</td>\n",
       "      <td>-9.3</td>\n",
       "      <td>-14.3</td>\n",
       "      <td>-20.0</td>\n",
       "      <td>-15.8</td>\n",
       "      <td>-16.8</td>\n",
       "      <td>-17.2</td>\n",
       "      <td>-15.7</td>\n",
       "    </tr>\n",
       "    <tr>\n",
       "      <td>1</td>\n",
       "      <td>Angola</td>\n",
       "      <td>2.875</td>\n",
       "      <td>0.125</td>\n",
       "      <td>12.375</td>\n",
       "      <td>54.787</td>\n",
       "      <td>0.00</td>\n",
       "      <td>0.000</td>\n",
       "      <td>0.000</td>\n",
       "      <td>99.01</td>\n",
       "      <td>99.010</td>\n",
       "      <td>...</td>\n",
       "      <td>-21.2</td>\n",
       "      <td>-23.0</td>\n",
       "      <td>-20.3</td>\n",
       "      <td>-22.3</td>\n",
       "      <td>-15.5</td>\n",
       "      <td>-26.3</td>\n",
       "      <td>-22.2</td>\n",
       "      <td>-22.0</td>\n",
       "      <td>-23.7</td>\n",
       "      <td>-20.5</td>\n",
       "    </tr>\n",
       "    <tr>\n",
       "      <td>2</td>\n",
       "      <td>Antigua and Barbuda</td>\n",
       "      <td>0.000</td>\n",
       "      <td>0.000</td>\n",
       "      <td>0.000</td>\n",
       "      <td>0.000</td>\n",
       "      <td>0.00</td>\n",
       "      <td>0.000</td>\n",
       "      <td>0.000</td>\n",
       "      <td>0.00</td>\n",
       "      <td>0.000</td>\n",
       "      <td>...</td>\n",
       "      <td>-30.2</td>\n",
       "      <td>-30.3</td>\n",
       "      <td>-27.5</td>\n",
       "      <td>-24.0</td>\n",
       "      <td>-34.0</td>\n",
       "      <td>-38.8</td>\n",
       "      <td>-25.0</td>\n",
       "      <td>-26.3</td>\n",
       "      <td>-25.8</td>\n",
       "      <td>-25.3</td>\n",
       "    </tr>\n",
       "  </tbody>\n",
       "</table>\n",
       "<p>3 rows × 92 columns</p>\n",
       "</div>"
      ],
      "text/plain": [
       "              location  Y_weekavg_new_confirmed  Y_weekavg_new_deaths  \\\n",
       "0          Afghanistan                  622.875                 6.625   \n",
       "1               Angola                    2.875                 0.125   \n",
       "2  Antigua and Barbuda                    0.000                 0.000   \n",
       "\n",
       "   Y_weekavg__new_death_change_rate  Y_weekavg__new_confirmed_change_rate  \\\n",
       "0                           -10.288                                 2.625   \n",
       "1                            12.375                                54.787   \n",
       "2                             0.000                                 0.000   \n",
       "\n",
       "   X__new_confirmed_change_rate_2020-04-23  \\\n",
       "0                                   -55.93   \n",
       "1                                     0.00   \n",
       "2                                     0.00   \n",
       "\n",
       "   X__new_confirmed_change_rate_2020-04-24  \\\n",
       "0                                  -69.065   \n",
       "1                                    0.000   \n",
       "2                                    0.000   \n",
       "\n",
       "   X__new_confirmed_change_rate_2020-04-25  \\\n",
       "0                                  -52.116   \n",
       "1                                    0.000   \n",
       "2                                    0.000   \n",
       "\n",
       "   X__new_confirmed_change_rate_2020-04-26  \\\n",
       "0                                   -70.76   \n",
       "1                                    99.01   \n",
       "2                                     0.00   \n",
       "\n",
       "   X__new_confirmed_change_rate_2020-04-27  ...  X_mobility_2020-05-12  \\\n",
       "0                                  -26.694  ...                  -21.8   \n",
       "1                                   99.010  ...                  -21.2   \n",
       "2                                    0.000  ...                  -30.2   \n",
       "\n",
       "   X_mobility_2020-05-13  X_mobility_2020-05-14  X_mobility_2020-05-15  \\\n",
       "0                  -21.7                  -20.3                   -9.3   \n",
       "1                  -23.0                  -20.3                  -22.3   \n",
       "2                  -30.3                  -27.5                  -24.0   \n",
       "\n",
       "   X_mobility_2020-05-16  X_mobility_2020-05-17  X_mobility_2020-05-18  \\\n",
       "0                  -14.3                  -20.0                  -15.8   \n",
       "1                  -15.5                  -26.3                  -22.2   \n",
       "2                  -34.0                  -38.8                  -25.0   \n",
       "\n",
       "   X_mobility_2020-05-19  X_mobility_2020-05-20  X_mobility_2020-05-21  \n",
       "0                  -16.8                  -17.2                  -15.7  \n",
       "1                  -22.0                  -23.7                  -20.5  \n",
       "2                  -26.3                  -25.8                  -25.3  \n",
       "\n",
       "[3 rows x 92 columns]"
      ]
     },
     "execution_count": 28,
     "metadata": {},
     "output_type": "execute_result"
    }
   ],
   "source": [
    "df_yX = (pd.merge(left=df_y, right=df_X, left_index=True, right_index=True, how='inner')\n",
    "         .reset_index())\n",
    "df_yX[['country_region', 'province_state', 'county']] = \\\n",
    "                df_yX[['country_region', 'province_state', 'county']].replace('nan', '')\n",
    "df_yX['country_region'] = df_yX['country_region'] + df_yX['province_state'] + df_yX['county']\n",
    "df_yX = df_yX.drop(axis=1, labels=['province_state', 'county']).rename(columns={'country_region':'location'})\n",
    "df_yX.head(3)"
   ]
  },
  {
   "cell_type": "code",
   "execution_count": 38,
   "metadata": {},
   "outputs": [
    {
     "name": "stdout",
     "output_type": "stream",
     "text": [
      "Dataset shape: (2863, 92)\n"
     ]
    }
   ],
   "source": [
    "print('Dataset shape:', df_yX.shape)\n",
    "df_yX.to_csv(f'datasets/{datetime.datetime.today().date()}_df-yX.csv', index=False)"
   ]
  },
  {
   "cell_type": "code",
   "execution_count": 30,
   "metadata": {},
   "outputs": [],
   "source": [
    "dd2 = load_xy_dataframe()"
   ]
  },
  {
   "cell_type": "code",
   "execution_count": 31,
   "metadata": {},
   "outputs": [
    {
     "data": {
      "text/plain": [
       "<matplotlib.axes._subplots.AxesSubplot at 0x21a86650>"
      ]
     },
     "execution_count": 31,
     "metadata": {},
     "output_type": "execute_result"
    },
    {
     "data": {
      "image/png": "[encoded data removed]",
      "text/plain": [
       "<Figure size 432x288 with 1 Axes>"
      ]
     },
     "metadata": {
      "needs_background": "light"
     },
     "output_type": "display_data"
    }
   ],
   "source": [
    "(dd2 != df_yX).sum().plot()"
   ]
  },
  {
   "cell_type": "markdown",
   "metadata": {},
   "source": [
    "# Representation <a class='anchor' id='representation'></a>"
   ]
  },
  {
   "cell_type": "code",
   "execution_count": 32,
   "metadata": {},
   "outputs": [],
   "source": [
    "%matplotlib inline"
   ]
  },
  {
   "cell_type": "code",
   "execution_count": 33,
   "metadata": {},
   "outputs": [],
   "source": [
    "df = load_main_dataframe()"
   ]
  },
  {
   "cell_type": "code",
   "execution_count": 34,
   "metadata": {},
   "outputs": [
    {
     "data": {
      "text/plain": [
       "<matplotlib.axes._subplots.AxesSubplot at 0x21a57210>"
      ]
     },
     "execution_count": 34,
     "metadata": {},
     "output_type": "execute_result"
    },
    {
     "data": {
      "image/png": "[encoded data removed]",
      "text/plain": [
       "<Figure size 576x432 with 1 Axes>"
      ]
     },
     "metadata": {
      "needs_background": "light"
     },
     "output_type": "display_data"
    }
   ],
   "source": [
    "df.loc[idx['United States', 'California', 'Los Angeles'], 'new_deaths'].plot(figsize=(8, 6))"
   ]
  },
  {
   "cell_type": "code",
   "execution_count": 35,
   "metadata": {},
   "outputs": [
    {
     "data": {
      "text/plain": [
       "<matplotlib.axes._subplots.AxesSubplot at 0x21a351f0>"
      ]
     },
     "execution_count": 35,
     "metadata": {},
     "output_type": "execute_result"
    },
    {
     "data": {
      "image/png": "[encoded data removed]",
      "text/plain": [
       "<Figure size 576x432 with 1 Axes>"
      ]
     },
     "metadata": {
      "needs_background": "light"
     },
     "output_type": "display_data"
    }
   ],
   "source": [
    "df.loc[idx['United States', 'California', 'Los Angeles'], 'mobility'].plot(figsize=(8, 6))"
   ]
  }
 ],
 "metadata": {
  "kernelspec": {
   "display_name": "Python 3",
   "language": "python",
   "name": "python3"
  },
  "language_info": {
   "codemirror_mode": {
    "name": "ipython",
    "version": 3
   },
   "file_extension": ".py",
   "mimetype": "text/x-python",
   "name": "python",
   "nbconvert_exporter": "python",
   "pygments_lexer": "ipython3",
   "version": "3.6.9"
  },
  "toc": {
   "base_numbering": 1,
   "nav_menu": {},
   "number_sections": true,
   "sideBar": true,
   "skip_h1_title": false,
   "title_cell": "Table of Contents",
   "title_sidebar": "Contents",
   "toc_cell": false,
   "toc_position": {
    "height": "calc(100% - 180px)",
    "left": "10px",
    "top": "150px",
    "width": "220.6px"
   },
   "toc_section_display": true,
   "toc_window_display": true
  }
 },
 "nbformat": 4,
 "nbformat_minor": 2
}
