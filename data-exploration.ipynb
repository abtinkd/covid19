{
 "cells": [
  {
   "cell_type": "markdown",
   "metadata": {},
   "source": [
    "# Outline:\n",
    "* [Configuration](#config)\n",
    "* [Functions](#functions)\n",
    "* [Loading-data](#loading-data)"
   ]
  },
  {
   "cell_type": "markdown",
   "metadata": {},
   "source": [
    "# Configuration <a class='anchor' id='config'></a>"
   ]
  },
  {
   "cell_type": "code",
   "execution_count": 1,
   "metadata": {},
   "outputs": [],
   "source": [
    "import numpy as np\n",
    "import pandas as pd\n",
    "import matplotlib.pyplot as plt\n",
    "\n",
    "\n",
    "url_csse_covid_19_daily_reports = (\"https://github.com/CSSEGISandData/COVID-19/tree/master/\"\n",
    "                                   \"csse_covid_19_data/csse_covid_19_daily_reports\")\n",
    "url_csse_covid_19_daily_reports_us = (\"https://github.com/CSSEGISandData/COVID-19/tree/master/\"\n",
    "                                      \"csse_covid_19_data/csse_covid_19_daily_reports_us\")\n",
    "\n",
    "url_time_series_covid19_confirmed_global = (\"https://raw.githubusercontent.com/CSSEGISandData/COVID-19/master/\"\n",
    "                        \"csse_covid_19_data/csse_covid_19_time_series/time_series_covid19_confirmed_global.csv\")\n",
    "url_time_series_covid19_deaths_global = (\"https://raw.githubusercontent.com/CSSEGISandData/COVID-19/master/\"\n",
    "                        \"csse_covid_19_data/csse_covid_19_time_series/time_series_covid19_deaths_global.csv\")\n",
    "url_time_series_covid19_recovered_global = (\"https://github.com/CSSEGISandData/COVID-19/raw/master/\"\n",
    " \"csse_covid_19_data/csse_covid_19_time_series/time_series_covid19_recovered_global.csv\")\n",
    "\n",
    "url_time_series_covid19_confirmed_US = (\"https://raw.githubusercontent.com/CSSEGISandData/COVID-19/master/\"\n",
    "                        \"csse_covid_19_data/csse_covid_19_time_series/time_series_covid19_confirmed_US.csv\")\n",
    "url_time_series_covid19_deaths_US = (\"https://raw.githubusercontent.com/CSSEGISandData/COVID-19/master/\"\n",
    "                        \"csse_covid_19_data/csse_covid_19_time_series/time_series_covid19_deaths_US.csv\")"
   ]
  },
  {
   "cell_type": "markdown",
   "metadata": {},
   "source": [
    "# functions <a class='anchor' id='functions'></a>"
   ]
  },
  {
   "cell_type": "code",
   "execution_count": 2,
   "metadata": {},
   "outputs": [],
   "source": [
    "def format_columns(df):     \n",
    "    df = df.rename(columns={'Country/Region':'Country_Region', 'Province/State': 'Province_State', 'Long_': 'Long'})\n",
    "    dates = {}\n",
    "    names = {}\n",
    "    for col in df.columns:\n",
    "        try:\n",
    "            dates[col] = pd.to_datetime(col).date()\n",
    "        except:\n",
    "            names[col] = str.lower(col)\n",
    "    df = df.rename(columns=names).rename(columns=dates)\n",
    "    cols_order = list(names.values()) + sorted(dates.values(), reverse=True)\n",
    "    return df[cols_order]\n",
    "\n",
    "def clean_up(df):\n",
    "    df = df.copy()\n",
    "    if 'population' in df.columns:\n",
    "        df.loc[df['population'] == 0, 'population'] = np.nan\n",
    "    return df\n",
    "\n",
    "def sparse_columns(df, sparsity_level=0.5):\n",
    "    return df.columns[df.isna().sum() > df.shape[0] * sparsity_level].values"
   ]
  },
  {
   "cell_type": "markdown",
   "metadata": {},
   "source": [
    "# Loading data"
   ]
  },
  {
   "cell_type": "markdown",
   "metadata": {},
   "source": [
    "### fetch time series"
   ]
  },
  {
   "cell_type": "code",
   "execution_count": 3,
   "metadata": {},
   "outputs": [
    {
     "name": "stdout",
     "output_type": "stream",
     "text": [
      "columns matched\n",
      "columns did not match: (Index(['population'], dtype='object'))\n",
      "(266, 137) (266, 137) (253, 137)\n",
      "(3261, 144) (3261, 145)\n"
     ]
    }
   ],
   "source": [
    "df_global_confirmed = pd.read_csv(url_time_series_covid19_confirmed_global)\n",
    "df_global_deaths = pd.read_csv(url_time_series_covid19_deaths_global)\n",
    "df_global_recovered = pd.read_csv(url_time_series_covid19_recovered_global)\n",
    "df_us_confirmed = pd.read_csv(url_time_series_covid19_confirmed_US)\n",
    "df_us_deaths= pd.read_csv(url_time_series_covid19_deaths_US)\n",
    "\n",
    "df_global_confirmed = clean_up(format_columns(df_global_confirmed))\n",
    "df_global_deaths = clean_up(format_columns(df_global_deaths))\n",
    "df_global_recovered = clean_up(format_columns(df_global_recovered))\n",
    "df_us_confirmed = clean_up(format_columns(df_us_confirmed))\n",
    "df_us_deaths = clean_up(format_columns(df_us_deaths))\n",
    "\n",
    "print('columns matched' if \n",
    "      df_global_confirmed.columns.symmetric_difference(df_global_deaths.columns).shape[0] == 0 and\n",
    "      df_global_confirmed.columns.symmetric_difference(df_global_recovered.columns).shape[0] == 0\n",
    "     else 'columns did not match')\n",
    "print('columns matched' \n",
    "      if df_us_confirmed.columns.symmetric_difference(df_us_deaths.columns).shape[0] == 0\n",
    "     else f'columns did not match: ({df_us_confirmed.columns.symmetric_difference(df_us_deaths.columns)})')\n",
    "\n",
    "print(df_global_confirmed.shape, df_global_deaths.shape, df_global_recovered.shape)\n",
    "print(df_us_confirmed.shape, df_us_deaths.shape)"
   ]
  },
  {
   "cell_type": "markdown",
   "metadata": {},
   "source": [
    "Columns with lots of missing numbers:"
   ]
  },
  {
   "cell_type": "code",
   "execution_count": 4,
   "metadata": {},
   "outputs": [
    {
     "name": "stdout",
     "output_type": "stream",
     "text": [
      "columns with at lease 60% NA values: ['province_state']\n",
      "columns with at lease 60% NA values: ['province_state']\n",
      "columns with at lease 60% NA values: ['province_state']\n",
      "columns with at lease 60% NA values: []\n",
      "columns with at lease 60% NA values: []\n"
     ]
    }
   ],
   "source": [
    "sparsity = 0.6\n",
    "print(f'columns with at lease {sparsity * 100:.0f}% NA values:', sparse_columns(df_global_confirmed, sparsity))\n",
    "print(f'columns with at lease {sparsity * 100:.0f}% NA values:', sparse_columns(df_global_deaths, sparsity))\n",
    "print(f'columns with at lease {sparsity * 100:.0f}% NA values:', sparse_columns(df_global_recovered, sparsity))\n",
    "print(f'columns with at lease {sparsity * 100:.0f}% NA values:', sparse_columns(df_us_confirmed, sparsity))\n",
    "print(f'columns with at lease {sparsity * 100:.0f}% NA values:', sparse_columns(df_us_deaths, sparsity))"
   ]
  },
  {
   "cell_type": "markdown",
   "metadata": {},
   "source": [
    "Appending dataframes to make a single one:"
   ]
  },
  {
   "cell_type": "code",
   "execution_count": 5,
   "metadata": {},
   "outputs": [],
   "source": [
    "assert (('class' not in df_global_confirmed.columns) and \n",
    "        ('class' not in df_us_confirmed.columns.union(df_us_deaths.columns))), 'assignment to an existing column'\n",
    "\n",
    "df_global_confirmed['class'] = 'confirmed'\n",
    "df_global_deaths['class'] = 'deaths'\n",
    "df_global_recovered['class'] = 'recovered'\n",
    "df_global = (df_global_confirmed\n",
    "             .append(df_global_deaths)\n",
    "             .append(df_global_recovered)\n",
    "             .set_index('country_region'))\n",
    "\n",
    "df_us_confirmed['class'] = 'confirmed'\n",
    "df_us_deaths['class'] = 'deaths'\n",
    "df_us = (df_us_confirmed.append(df_us_deaths, sort=False))\n",
    "df_us['country_region'] = 'US'\n",
    "df_us = df_us.set_index('country_region')\n",
    "\n",
    "df = df_us.append(df_global, sort=False)"
   ]
  },
  {
   "cell_type": "markdown",
   "metadata": {},
   "source": [
    "### fetch daily reports"
   ]
  }
 ],
 "metadata": {
  "kernelspec": {
   "display_name": "Python 3",
   "language": "python",
   "name": "python3"
  },
  "language_info": {
   "codemirror_mode": {
    "name": "ipython",
    "version": 3
   },
   "file_extension": ".py",
   "mimetype": "text/x-python",
   "name": "python",
   "nbconvert_exporter": "python",
   "pygments_lexer": "ipython3",
   "version": "3.6.9"
  },
  "toc": {
   "base_numbering": 1,
   "nav_menu": {},
   "number_sections": true,
   "sideBar": true,
   "skip_h1_title": false,
   "title_cell": "Table of Contents",
   "title_sidebar": "Contents",
   "toc_cell": false,
   "toc_position": {},
   "toc_section_display": true,
   "toc_window_display": true
  }
 },
 "nbformat": 4,
 "nbformat_minor": 2
}
