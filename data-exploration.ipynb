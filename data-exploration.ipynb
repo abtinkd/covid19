{
 "cells": [
  {
   "cell_type": "markdown",
   "metadata": {},
   "source": [
    "# Outline:\n",
    "* [Configuration](#config)\n",
    "* [Functions](#functions)\n",
    "* [Loading-data](#loading-data)\n",
    "* [Data-manipulation](#manipulation)\n",
    "* [Representation](#representation)"
   ]
  },
  {
   "cell_type": "markdown",
   "metadata": {},
   "source": [
    "# Configuration <a class='anchor' id='config'></a>"
   ]
  },
  {
   "cell_type": "code",
   "execution_count": 1,
   "metadata": {},
   "outputs": [],
   "source": [
    "import numpy as np\n",
    "import pandas as pd\n",
    "import matplotlib.pyplot as plt\n",
    "import datetime\n",
    "from helper_functions import load_data, load_main_dataframe, load_yx_dataframe\n",
    "\n",
    "\n",
    "url_csse_covid_19_daily_reports = (\"https://github.com/CSSEGISandData/COVID-19/tree/master/\"\n",
    "                                   \"csse_covid_19_data/csse_covid_19_daily_reports\")\n",
    "url_csse_covid_19_daily_reports_us = (\"https://github.com/CSSEGISandData/COVID-19/tree/master/\"\n",
    "                                      \"csse_covid_19_data/csse_covid_19_daily_reports_us\")\n",
    "\n",
    "url_time_series_covid19_confirmed_global = (\"https://raw.githubusercontent.com/CSSEGISandData/COVID-19/master/\"\n",
    "                        \"csse_covid_19_data/csse_covid_19_time_series/time_series_covid19_confirmed_global.csv\")\n",
    "url_time_series_covid19_deaths_global = (\"https://raw.githubusercontent.com/CSSEGISandData/COVID-19/master/\"\n",
    "                        \"csse_covid_19_data/csse_covid_19_time_series/time_series_covid19_deaths_global.csv\")\n",
    "url_time_series_covid19_recovered_global = (\"https://github.com/CSSEGISandData/COVID-19/raw/master/\"\n",
    " \"csse_covid_19_data/csse_covid_19_time_series/time_series_covid19_recovered_global.csv\")\n",
    "\n",
    "url_time_series_covid19_confirmed_US = (\"https://raw.githubusercontent.com/CSSEGISandData/COVID-19/master/\"\n",
    "                        \"csse_covid_19_data/csse_covid_19_time_series/time_series_covid19_confirmed_US.csv\")\n",
    "url_time_series_covid19_deaths_US = (\"https://raw.githubusercontent.com/CSSEGISandData/COVID-19/master/\"\n",
    "                        \"csse_covid_19_data/csse_covid_19_time_series/time_series_covid19_deaths_US.csv\")\n",
    "\n",
    "today = datetime.date.today()\n",
    "yesterday = today - datetime.timedelta(days=1)\n",
    "url_apple_mobility_trends = ('https://covid19-static.cdn-apple.com/covid19-mobility-data/'\n",
    "                             f'2009HotfixDev19/v3/en-us/applemobilitytrends-{yesterday}.csv')\n",
    "url_google_mobility_report = 'https://www.gstatic.com/covid19/mobility/Global_Mobility_Report.csv'"
   ]
  },
  {
   "cell_type": "markdown",
   "metadata": {},
   "source": [
    "# Functions <a class='anchor' id='functions'></a>"
   ]
  },
  {
   "cell_type": "code",
   "execution_count": 2,
   "metadata": {},
   "outputs": [],
   "source": [
    "def format_columns(df):\n",
    "    column_mapping = {'sub_region_1': 'province_state', 'sub_region_2': 'county', 'admin2': 'county',\n",
    "                 'country/region':'country_region', 'province/state': 'province_state', 'long_': 'long'}    \n",
    "    dates = {}\n",
    "    names = {}\n",
    "    for col in df.columns:\n",
    "        try:\n",
    "            dates[col] = pd.to_datetime(col).date()\n",
    "        except:\n",
    "            names[col] = str.lower(col)\n",
    "    df = df.rename(columns=names).rename(columns=dates)    \n",
    "    cols_order = list(names.values()) + sorted(dates.values(), reverse=True)\n",
    "    df = df[cols_order]\n",
    "    df = df.rename(columns=column_mapping)\n",
    "    if 'county' not in df.columns:\n",
    "        df['county'] = ' '\n",
    "    df[['country_region', 'province_state', 'county']] = df[['country_region', 'province_state', 'county']].fillna(' ')\n",
    "    return df\n",
    "\n",
    "def format_cells(df):\n",
    "    df = df.copy()\n",
    "    regex_mapping = {r'\\s(r|R)egion$': '', r'\\s(s|S)tate$': '', r'(s|S)tate of': '', r'\\s(d|D)istrict$': '',\n",
    "                     r'\\s(p|P)rovince$': '', r'\\s(c|C)ounty$': '', r'\\s(t|T)erritory$': '', \n",
    "                     r'\\s(d|D)epartment$': '', r'\\s(g|G)overnorate$': '', r'\\s(m|M)unicipality$': ''}\n",
    "    name_mapping = {'The Bahamas':'Bahamas', \"Côte d'Ivoire\":\"Cote d'Ivoire\", 'Myanmar (Burma)': 'Burma', \n",
    "                 'Korea, South': 'South Korea', 'Taiwan*':'Taiwan', 'US': 'United States'}     \n",
    "    df = df.replace(regex=regex_mapping).replace(to_replace=name_mapping)\n",
    "    return df"
   ]
  },
  {
   "cell_type": "code",
   "execution_count": 3,
   "metadata": {},
   "outputs": [],
   "source": [
    "def get_time_series_data(url):\n",
    "    df = format_cells(format_columns(load_data(url)))\n",
    "    date_columns = [c for c in df.columns if isinstance(c, datetime.date)]\n",
    "    # melt: Unpivots a DataFrame from wide format to long format\n",
    "    df = df.melt(value_vars=date_columns,\n",
    "                 id_vars=['country_region', 'province_state', 'county'], \n",
    "                 var_name='date', \n",
    "                 value_name='values')\n",
    "    df['date'] = pd.to_datetime(df['date'])\n",
    "    return df.set_index(['country_region', 'province_state', 'county', 'date']).sort_index()"
   ]
  },
  {
   "cell_type": "code",
   "execution_count": 4,
   "metadata": {},
   "outputs": [],
   "source": [
    "def get_google_mobility_data(url):\n",
    "    df_mobility = load_data(url, dtype={'country_region': str, 'sub_region_1': str, 'sub_region_2': str})\n",
    "    df_mobility = format_cells(format_columns(df_mobility))    \n",
    "    df_mobility.loc[df_mobility['country_region'] == 'Aruba', \n",
    "                    ['country_region', 'province_state']] = ('Netherlands', 'Aruba')    \n",
    "    df_mobility.loc[df_mobility['country_region'] == 'Hong Kong'\n",
    "                    , ['country_region', 'province_state']] = ('China', 'Hong Kong')\n",
    "    df_mobility['mobility'] = float(np.nan)\n",
    "    cols = df_mobility.columns[-7:-1]\n",
    "    df_mobility['mobility'] = df_mobility[cols].mean(axis=1).div(100.0).round(3)\n",
    "    df_mobility['date'] = pd.to_datetime(df_mobility['date'])\n",
    "    df_mobility.drop_duplicates(subset=['country_region', 'province_state', 'county', 'date'], keep='last', inplace=True)\n",
    "    df_mobility = df_mobility.set_index(['country_region', 'province_state', 'county', 'date']).sort_index()    \n",
    "    return df_mobility['mobility']"
   ]
  },
  {
   "cell_type": "markdown",
   "metadata": {},
   "source": [
    "# Loading data <a class='anchor' id='loading-data'></a>"
   ]
  },
  {
   "cell_type": "markdown",
   "metadata": {},
   "source": [
    "**Fetch time series**"
   ]
  },
  {
   "cell_type": "code",
   "execution_count": 5,
   "metadata": {},
   "outputs": [
    {
     "name": "stdout",
     "output_type": "stream",
     "text": [
      "Wall time: 20.5 s\n"
     ]
    }
   ],
   "source": [
    "%%time\n",
    "df_global_confirmed = get_time_series_data(url_time_series_covid19_confirmed_global).rename(columns={'values':'confirmed'})\n",
    "df_global_deaths = get_time_series_data(url_time_series_covid19_deaths_global).rename(columns={'values':'deaths'})\n",
    "df_us_confirmed = get_time_series_data(url_time_series_covid19_confirmed_US).rename(columns={'values':'confirmed'})\n",
    "df_us_deaths= get_time_series_data(url_time_series_covid19_deaths_US).rename(columns={'values':'deaths'})\n",
    "\n",
    "df_confirmed = df_global_confirmed.append(df_us_confirmed)\n",
    "df_deaths = df_global_deaths.append(df_us_deaths)\n",
    "df = pd.merge(left=df_confirmed, right=df_deaths, left_index=True, right_index=True, how='inner')"
   ]
  },
  {
   "cell_type": "code",
   "execution_count": 6,
   "metadata": {
    "scrolled": true
   },
   "outputs": [
    {
     "data": {
      "text/html": [
       "<div>\n",
       "<style scoped>\n",
       "    .dataframe tbody tr th:only-of-type {\n",
       "        vertical-align: middle;\n",
       "    }\n",
       "\n",
       "    .dataframe tbody tr th {\n",
       "        vertical-align: top;\n",
       "    }\n",
       "\n",
       "    .dataframe thead th {\n",
       "        text-align: right;\n",
       "    }\n",
       "</style>\n",
       "<table border=\"1\" class=\"dataframe\">\n",
       "  <thead>\n",
       "    <tr style=\"text-align: right;\">\n",
       "      <th></th>\n",
       "      <th></th>\n",
       "      <th>confirmed</th>\n",
       "      <th>deaths</th>\n",
       "    </tr>\n",
       "    <tr>\n",
       "      <th>province_state</th>\n",
       "      <th>county</th>\n",
       "      <th></th>\n",
       "      <th></th>\n",
       "    </tr>\n",
       "  </thead>\n",
       "  <tbody>\n",
       "    <tr>\n",
       "      <td></td>\n",
       "      <td></td>\n",
       "      <td>1851520</td>\n",
       "      <td>107161</td>\n",
       "    </tr>\n",
       "    <tr>\n",
       "      <td rowspan=\"4\" valign=\"top\">Alabama</td>\n",
       "      <td>Autauga</td>\n",
       "      <td>239</td>\n",
       "      <td>5</td>\n",
       "    </tr>\n",
       "    <tr>\n",
       "      <td>Baldwin</td>\n",
       "      <td>292</td>\n",
       "      <td>9</td>\n",
       "    </tr>\n",
       "    <tr>\n",
       "      <td>Barbour</td>\n",
       "      <td>177</td>\n",
       "      <td>1</td>\n",
       "    </tr>\n",
       "    <tr>\n",
       "      <td>Bibb</td>\n",
       "      <td>76</td>\n",
       "      <td>1</td>\n",
       "    </tr>\n",
       "    <tr>\n",
       "      <td>...</td>\n",
       "      <td>...</td>\n",
       "      <td>...</td>\n",
       "      <td>...</td>\n",
       "    </tr>\n",
       "    <tr>\n",
       "      <td rowspan=\"5\" valign=\"top\">Wyoming</td>\n",
       "      <td>Teton</td>\n",
       "      <td>100</td>\n",
       "      <td>0</td>\n",
       "    </tr>\n",
       "    <tr>\n",
       "      <td>Uinta</td>\n",
       "      <td>13</td>\n",
       "      <td>0</td>\n",
       "    </tr>\n",
       "    <tr>\n",
       "      <td>Unassigned</td>\n",
       "      <td>0</td>\n",
       "      <td>16</td>\n",
       "    </tr>\n",
       "    <tr>\n",
       "      <td>Washakie</td>\n",
       "      <td>37</td>\n",
       "      <td>0</td>\n",
       "    </tr>\n",
       "    <tr>\n",
       "      <td>Weston</td>\n",
       "      <td>1</td>\n",
       "      <td>0</td>\n",
       "    </tr>\n",
       "  </tbody>\n",
       "</table>\n",
       "<p>3262 rows × 2 columns</p>\n",
       "</div>"
      ],
      "text/plain": [
       "                           confirmed  deaths\n",
       "province_state county                       \n",
       "                             1851520  107161\n",
       "Alabama        Autauga           239       5\n",
       "               Baldwin           292       9\n",
       "               Barbour           177       1\n",
       "               Bibb               76       1\n",
       "...                              ...     ...\n",
       "Wyoming        Teton             100       0\n",
       "               Uinta              13       0\n",
       "               Unassigned          0      16\n",
       "               Washakie           37       0\n",
       "               Weston              1       0\n",
       "\n",
       "[3262 rows x 2 columns]"
      ]
     },
     "execution_count": 6,
     "metadata": {},
     "output_type": "execute_result"
    }
   ],
   "source": [
    "idx = pd.IndexSlice\n",
    "df.loc[idx['United States', :, :, '2020-06-03']]"
   ]
  },
  {
   "cell_type": "markdown",
   "metadata": {},
   "source": [
    "**Fill mobility trends in different regions of the world**"
   ]
  },
  {
   "cell_type": "code",
   "execution_count": 7,
   "metadata": {},
   "outputs": [
    {
     "name": "stdout",
     "output_type": "stream",
     "text": [
      "Wall time: 52.1 s\n"
     ]
    }
   ],
   "source": [
    "%%time\n",
    "df_mobility = get_google_mobility_data(url_google_mobility_report)"
   ]
  },
  {
   "cell_type": "markdown",
   "metadata": {},
   "source": [
    "Merge mobility with our main dataframe"
   ]
  },
  {
   "cell_type": "code",
   "execution_count": 8,
   "metadata": {},
   "outputs": [
    {
     "name": "stdout",
     "output_type": "stream",
     "text": [
      "Wall time: 2.11 s\n"
     ]
    }
   ],
   "source": [
    "%%time\n",
    "df = pd.merge(left=df, right=df_mobility, left_index=True, right_index=True, how='left', validate='1:1').sort_index()"
   ]
  },
  {
   "cell_type": "code",
   "execution_count": 9,
   "metadata": {},
   "outputs": [
    {
     "data": {
      "text/html": [
       "<div>\n",
       "<style scoped>\n",
       "    .dataframe tbody tr th:only-of-type {\n",
       "        vertical-align: middle;\n",
       "    }\n",
       "\n",
       "    .dataframe tbody tr th {\n",
       "        vertical-align: top;\n",
       "    }\n",
       "\n",
       "    .dataframe thead th {\n",
       "        text-align: right;\n",
       "    }\n",
       "</style>\n",
       "<table border=\"1\" class=\"dataframe\">\n",
       "  <thead>\n",
       "    <tr style=\"text-align: right;\">\n",
       "      <th></th>\n",
       "      <th></th>\n",
       "      <th></th>\n",
       "      <th></th>\n",
       "      <th>confirmed</th>\n",
       "      <th>deaths</th>\n",
       "      <th>mobility</th>\n",
       "    </tr>\n",
       "    <tr>\n",
       "      <th>country_region</th>\n",
       "      <th>province_state</th>\n",
       "      <th>county</th>\n",
       "      <th>date</th>\n",
       "      <th></th>\n",
       "      <th></th>\n",
       "      <th></th>\n",
       "    </tr>\n",
       "  </thead>\n",
       "  <tbody>\n",
       "    <tr>\n",
       "      <td rowspan=\"7\" valign=\"top\">France</td>\n",
       "      <td>Saint Barthelemy</td>\n",
       "      <td></td>\n",
       "      <td>2020-05-27</td>\n",
       "      <td>6</td>\n",
       "      <td>0</td>\n",
       "      <td>NaN</td>\n",
       "    </tr>\n",
       "    <tr>\n",
       "      <td rowspan=\"3\" valign=\"top\">Saint Pierre and Miquelon</td>\n",
       "      <td rowspan=\"3\" valign=\"top\"></td>\n",
       "      <td>2020-05-25</td>\n",
       "      <td>1</td>\n",
       "      <td>0</td>\n",
       "      <td>NaN</td>\n",
       "    </tr>\n",
       "    <tr>\n",
       "      <td>2020-05-26</td>\n",
       "      <td>1</td>\n",
       "      <td>0</td>\n",
       "      <td>NaN</td>\n",
       "    </tr>\n",
       "    <tr>\n",
       "      <td>2020-05-27</td>\n",
       "      <td>1</td>\n",
       "      <td>0</td>\n",
       "      <td>NaN</td>\n",
       "    </tr>\n",
       "    <tr>\n",
       "      <td rowspan=\"3\" valign=\"top\">St Martin</td>\n",
       "      <td rowspan=\"3\" valign=\"top\"></td>\n",
       "      <td>2020-05-25</td>\n",
       "      <td>40</td>\n",
       "      <td>3</td>\n",
       "      <td>NaN</td>\n",
       "    </tr>\n",
       "    <tr>\n",
       "      <td>2020-05-26</td>\n",
       "      <td>40</td>\n",
       "      <td>3</td>\n",
       "      <td>NaN</td>\n",
       "    </tr>\n",
       "    <tr>\n",
       "      <td>2020-05-27</td>\n",
       "      <td>40</td>\n",
       "      <td>3</td>\n",
       "      <td>NaN</td>\n",
       "    </tr>\n",
       "  </tbody>\n",
       "</table>\n",
       "</div>"
      ],
      "text/plain": [
       "                                                            confirmed  deaths  \\\n",
       "country_region province_state            county date                            \n",
       "France         Saint Barthelemy                 2020-05-27          6       0   \n",
       "               Saint Pierre and Miquelon        2020-05-25          1       0   \n",
       "                                                2020-05-26          1       0   \n",
       "                                                2020-05-27          1       0   \n",
       "               St Martin                        2020-05-25         40       3   \n",
       "                                                2020-05-26         40       3   \n",
       "                                                2020-05-27         40       3   \n",
       "\n",
       "                                                            mobility  \n",
       "country_region province_state            county date                  \n",
       "France         Saint Barthelemy                 2020-05-27       NaN  \n",
       "               Saint Pierre and Miquelon        2020-05-25       NaN  \n",
       "                                                2020-05-26       NaN  \n",
       "                                                2020-05-27       NaN  \n",
       "               St Martin                        2020-05-25       NaN  \n",
       "                                                2020-05-26       NaN  \n",
       "                                                2020-05-27       NaN  "
      ]
     },
     "execution_count": 9,
     "metadata": {},
     "output_type": "execute_result"
    }
   ],
   "source": [
    "df.loc[idx['France', :, :, '2020-05-25': '2020-05-27']].tail(7)"
   ]
  },
  {
   "cell_type": "markdown",
   "metadata": {},
   "source": [
    "# Data Manipulation <a class='anchor' id='manipulation'></a>"
   ]
  },
  {
   "cell_type": "markdown",
   "metadata": {},
   "source": [
    "**Calculating *new_confirmed* and *new_deaths***"
   ]
  },
  {
   "cell_type": "code",
   "execution_count": 10,
   "metadata": {},
   "outputs": [
    {
     "name": "stdout",
     "output_type": "stream",
     "text": [
      "Wall time: 27.9 ms\n"
     ]
    }
   ],
   "source": [
    "%%time\n",
    "df[['new_confirmed', 'new_deaths']] = df[['confirmed', 'deaths']].diff()"
   ]
  },
  {
   "cell_type": "code",
   "execution_count": 11,
   "metadata": {},
   "outputs": [
    {
     "name": "stdout",
     "output_type": "stream",
     "text": [
      "Wall time: 6 s\n"
     ]
    }
   ],
   "source": [
    "%%time\n",
    "headindex, tailindex = [], []\n",
    "for name, group in df.groupby(axis='index', level=[0,1,2]):    \n",
    "    headindex.append(group.index.values[0])\n",
    "    tailindex.append(group.index.values[-1])\n",
    "\n",
    "headindex = pd.MultiIndex.from_tuples(headindex)\n",
    "tailindex = pd.MultiIndex.from_tuples(tailindex)\n",
    "\n",
    "df.loc[headindex, 'new_confirmed'] = df.loc[headindex, 'confirmed']\n",
    "df.loc[headindex, 'new_deaths'] = df.loc[headindex, 'deaths']\n",
    "\n",
    "df['new_deaths'] = df['new_deaths'].astype('int64')\n",
    "df['new_confirmed'] = df['new_confirmed'].astype('int64')\n",
    "df = df[['mobility', 'confirmed', 'new_confirmed', 'deaths', 'new_deaths']]"
   ]
  },
  {
   "cell_type": "markdown",
   "metadata": {},
   "source": [
    "**Calculating a *baseline*, and change rates of deaths/confirmed based on this baseline**"
   ]
  },
  {
   "cell_type": "code",
   "execution_count": 12,
   "metadata": {},
   "outputs": [
    {
     "name": "stdout",
     "output_type": "stream",
     "text": [
      "baseline period: 2020-04-15 00:00:00 to 2020-05-15 00:00:00\n"
     ]
    }
   ],
   "source": [
    "baseline_start_date = pd.to_datetime('2020-04-15')\n",
    "baseline_end_date = pd.to_datetime('2020-05-15')\n",
    "print(f'baseline period: {baseline_start_date} to {baseline_end_date}')\n",
    "df['baseline_period_'] = f'{baseline_start_date.date()}_{baseline_end_date.date()}'"
   ]
  },
  {
   "cell_type": "code",
   "execution_count": 13,
   "metadata": {},
   "outputs": [
    {
     "name": "stdout",
     "output_type": "stream",
     "text": [
      "Wall time: 4.29 s\n"
     ]
    }
   ],
   "source": [
    "%%time\n",
    "# only consider the view of the dataframe during baseline_start/end_time, then find median along first three index\n",
    "idx_bp = idx[:, :, :, baseline_start_date: baseline_end_date]\n",
    "df['n_c_baseline_'] = df.loc[idx_bp, 'new_confirmed'].median(axis=0, level=[0,1,2])\n",
    "df['n_d_baseline_'] = df.loc[idx_bp, 'new_deaths'].median(axis=0, level=[0,1,2])\n",
    "# set baseline to 0.5 for those countries that baseline is 0\n",
    "df.loc[(df['n_c_baseline_'].isna()) | (df['n_c_baseline_'] == 0), 'n_c_baseline_'] = 0.5\n",
    "df.loc[(df['n_d_baseline_'].isna()) | (df['n_d_baseline_'] == 0), 'n_d_baseline_'] = 0.5\n",
    "\n",
    "# slower version:\n",
    "# for name, group in df.groupby(axis='index', level=[0,1,2]):\n",
    "#     start_index = (*name, baseline_start_date)\n",
    "#     end_index = (*name, baseline_end_date)\n",
    "#     n_c_baseline = max(0.5, df.loc[idx[start_index: end_index], 'new_confirmed'].median())\n",
    "#     n_d_baseline = max(0.5, df.loc[idx[start_index: end_index], 'new_deaths'].median())\n",
    "#     df.loc[name, 'n_c_baseline_'] = n_c_baseline\n",
    "#     df.loc[name, 'n_d_baseline_'] = n_d_baseline"
   ]
  },
  {
   "cell_type": "code",
   "execution_count": 14,
   "metadata": {},
   "outputs": [],
   "source": [
    "df['n_c_change'] = (((df['new_confirmed'] - df['n_c_baseline_']) / df['n_c_baseline_'])\n",
    "                                    .round(3))\n",
    "df['n_d_change'] = (((df['new_deaths'] - df['n_d_baseline_']) / df['n_d_baseline_'])\n",
    "                                .round(3))"
   ]
  },
  {
   "cell_type": "markdown",
   "metadata": {},
   "source": [
    "We calculate location's *shock_index* as the weighted average of *n_d_change* of the _k_ newsest reports"
   ]
  },
  {
   "cell_type": "code",
   "execution_count": 15,
   "metadata": {},
   "outputs": [
    {
     "name": "stdout",
     "output_type": "stream",
     "text": [
      "Wall time: 5.34 s\n"
     ]
    }
   ],
   "source": [
    "%%time\n",
    "k = 10\n",
    "weights = np.arange(1, k+1)\n",
    "df['shock'] = np.nan\n",
    "df['growth'] = np.nan\n",
    "wavg = lambda x: np.average(x.iloc[-k:], weights=weights, axis=0)\n",
    "df_temp = df.sort_index(level=3)\n",
    "df['shock'] = df_temp['n_d_change'].groupby(axis=0, level=[0,1,2]).apply(wavg)\n",
    "df['growth'] = df_temp['n_c_change'].groupby(axis=0, level=[0,1,2]).apply(wavg)\n",
    "\n",
    "# slower version:\n",
    "# for name, group in df.groupby(axis=0, level=[0,1,2]):\n",
    "#     df.loc[name, 'shock'] = np.average(group.iloc[-k:]['n_d_change'], weights=weights, axis=0)\n",
    "#     df.loc[name, 'growth'] = np.average(group.iloc[-k:]['n_c_change'], weights=weights, axis=0)"
   ]
  },
  {
   "cell_type": "markdown",
   "metadata": {},
   "source": [
    "Clean up dataframe"
   ]
  },
  {
   "cell_type": "code",
   "execution_count": 16,
   "metadata": {
    "scrolled": true
   },
   "outputs": [
    {
     "data": {
      "text/html": [
       "<div>\n",
       "<style scoped>\n",
       "    .dataframe tbody tr th:only-of-type {\n",
       "        vertical-align: middle;\n",
       "    }\n",
       "\n",
       "    .dataframe tbody tr th {\n",
       "        vertical-align: top;\n",
       "    }\n",
       "\n",
       "    .dataframe thead th {\n",
       "        text-align: right;\n",
       "    }\n",
       "</style>\n",
       "<table border=\"1\" class=\"dataframe\">\n",
       "  <thead>\n",
       "    <tr style=\"text-align: right;\">\n",
       "      <th></th>\n",
       "      <th></th>\n",
       "      <th></th>\n",
       "      <th></th>\n",
       "      <th>mobility</th>\n",
       "      <th>confirmed</th>\n",
       "      <th>new_confirmed</th>\n",
       "      <th>n_c_change</th>\n",
       "      <th>deaths</th>\n",
       "      <th>new_deaths</th>\n",
       "      <th>n_d_change</th>\n",
       "      <th>shock</th>\n",
       "      <th>growth</th>\n",
       "      <th>n_c_baseline_</th>\n",
       "      <th>n_d_baseline_</th>\n",
       "      <th>baseline_period_</th>\n",
       "    </tr>\n",
       "    <tr>\n",
       "      <th>country_region</th>\n",
       "      <th>province_state</th>\n",
       "      <th>county</th>\n",
       "      <th>date</th>\n",
       "      <th></th>\n",
       "      <th></th>\n",
       "      <th></th>\n",
       "      <th></th>\n",
       "      <th></th>\n",
       "      <th></th>\n",
       "      <th></th>\n",
       "      <th></th>\n",
       "      <th></th>\n",
       "      <th></th>\n",
       "      <th></th>\n",
       "      <th></th>\n",
       "    </tr>\n",
       "  </thead>\n",
       "  <tbody>\n",
       "    <tr>\n",
       "      <td rowspan=\"5\" valign=\"top\">Afghanistan</td>\n",
       "      <td rowspan=\"5\" valign=\"top\"></td>\n",
       "      <td rowspan=\"5\" valign=\"top\"></td>\n",
       "      <td>2020-01-22</td>\n",
       "      <td>NaN</td>\n",
       "      <td>0</td>\n",
       "      <td>0</td>\n",
       "      <td>-1.0</td>\n",
       "      <td>0</td>\n",
       "      <td>0</td>\n",
       "      <td>-1.0</td>\n",
       "      <td>2.709091</td>\n",
       "      <td>3.361255</td>\n",
       "      <td>164.0</td>\n",
       "      <td>4.0</td>\n",
       "      <td>2020-04-15_2020-05-15</td>\n",
       "    </tr>\n",
       "    <tr>\n",
       "      <td>2020-01-23</td>\n",
       "      <td>NaN</td>\n",
       "      <td>0</td>\n",
       "      <td>0</td>\n",
       "      <td>-1.0</td>\n",
       "      <td>0</td>\n",
       "      <td>0</td>\n",
       "      <td>-1.0</td>\n",
       "      <td>2.709091</td>\n",
       "      <td>3.361255</td>\n",
       "      <td>164.0</td>\n",
       "      <td>4.0</td>\n",
       "      <td>2020-04-15_2020-05-15</td>\n",
       "    </tr>\n",
       "    <tr>\n",
       "      <td>2020-01-24</td>\n",
       "      <td>NaN</td>\n",
       "      <td>0</td>\n",
       "      <td>0</td>\n",
       "      <td>-1.0</td>\n",
       "      <td>0</td>\n",
       "      <td>0</td>\n",
       "      <td>-1.0</td>\n",
       "      <td>2.709091</td>\n",
       "      <td>3.361255</td>\n",
       "      <td>164.0</td>\n",
       "      <td>4.0</td>\n",
       "      <td>2020-04-15_2020-05-15</td>\n",
       "    </tr>\n",
       "    <tr>\n",
       "      <td>2020-01-25</td>\n",
       "      <td>NaN</td>\n",
       "      <td>0</td>\n",
       "      <td>0</td>\n",
       "      <td>-1.0</td>\n",
       "      <td>0</td>\n",
       "      <td>0</td>\n",
       "      <td>-1.0</td>\n",
       "      <td>2.709091</td>\n",
       "      <td>3.361255</td>\n",
       "      <td>164.0</td>\n",
       "      <td>4.0</td>\n",
       "      <td>2020-04-15_2020-05-15</td>\n",
       "    </tr>\n",
       "    <tr>\n",
       "      <td>2020-01-26</td>\n",
       "      <td>NaN</td>\n",
       "      <td>0</td>\n",
       "      <td>0</td>\n",
       "      <td>-1.0</td>\n",
       "      <td>0</td>\n",
       "      <td>0</td>\n",
       "      <td>-1.0</td>\n",
       "      <td>2.709091</td>\n",
       "      <td>3.361255</td>\n",
       "      <td>164.0</td>\n",
       "      <td>4.0</td>\n",
       "      <td>2020-04-15_2020-05-15</td>\n",
       "    </tr>\n",
       "    <tr>\n",
       "      <td>...</td>\n",
       "      <td>...</td>\n",
       "      <td>...</td>\n",
       "      <td>...</td>\n",
       "      <td>...</td>\n",
       "      <td>...</td>\n",
       "      <td>...</td>\n",
       "      <td>...</td>\n",
       "      <td>...</td>\n",
       "      <td>...</td>\n",
       "      <td>...</td>\n",
       "      <td>...</td>\n",
       "      <td>...</td>\n",
       "      <td>...</td>\n",
       "      <td>...</td>\n",
       "      <td>...</td>\n",
       "    </tr>\n",
       "    <tr>\n",
       "      <td rowspan=\"5\" valign=\"top\">Angola</td>\n",
       "      <td rowspan=\"5\" valign=\"top\"></td>\n",
       "      <td rowspan=\"5\" valign=\"top\"></td>\n",
       "      <td>2020-06-04</td>\n",
       "      <td>NaN</td>\n",
       "      <td>86</td>\n",
       "      <td>0</td>\n",
       "      <td>-1.0</td>\n",
       "      <td>4</td>\n",
       "      <td>0</td>\n",
       "      <td>-1.0</td>\n",
       "      <td>-1.000000</td>\n",
       "      <td>1.181818</td>\n",
       "      <td>0.5</td>\n",
       "      <td>0.5</td>\n",
       "      <td>2020-04-15_2020-05-15</td>\n",
       "    </tr>\n",
       "    <tr>\n",
       "      <td>2020-06-05</td>\n",
       "      <td>NaN</td>\n",
       "      <td>86</td>\n",
       "      <td>0</td>\n",
       "      <td>-1.0</td>\n",
       "      <td>4</td>\n",
       "      <td>0</td>\n",
       "      <td>-1.0</td>\n",
       "      <td>-1.000000</td>\n",
       "      <td>1.181818</td>\n",
       "      <td>0.5</td>\n",
       "      <td>0.5</td>\n",
       "      <td>2020-04-15_2020-05-15</td>\n",
       "    </tr>\n",
       "    <tr>\n",
       "      <td>2020-06-06</td>\n",
       "      <td>NaN</td>\n",
       "      <td>88</td>\n",
       "      <td>2</td>\n",
       "      <td>3.0</td>\n",
       "      <td>4</td>\n",
       "      <td>0</td>\n",
       "      <td>-1.0</td>\n",
       "      <td>-1.000000</td>\n",
       "      <td>1.181818</td>\n",
       "      <td>0.5</td>\n",
       "      <td>0.5</td>\n",
       "      <td>2020-04-15_2020-05-15</td>\n",
       "    </tr>\n",
       "    <tr>\n",
       "      <td>2020-06-07</td>\n",
       "      <td>NaN</td>\n",
       "      <td>91</td>\n",
       "      <td>3</td>\n",
       "      <td>5.0</td>\n",
       "      <td>4</td>\n",
       "      <td>0</td>\n",
       "      <td>-1.0</td>\n",
       "      <td>-1.000000</td>\n",
       "      <td>1.181818</td>\n",
       "      <td>0.5</td>\n",
       "      <td>0.5</td>\n",
       "      <td>2020-04-15_2020-05-15</td>\n",
       "    </tr>\n",
       "    <tr>\n",
       "      <td>2020-06-08</td>\n",
       "      <td>NaN</td>\n",
       "      <td>92</td>\n",
       "      <td>1</td>\n",
       "      <td>1.0</td>\n",
       "      <td>4</td>\n",
       "      <td>0</td>\n",
       "      <td>-1.0</td>\n",
       "      <td>-1.000000</td>\n",
       "      <td>1.181818</td>\n",
       "      <td>0.5</td>\n",
       "      <td>0.5</td>\n",
       "      <td>2020-04-15_2020-05-15</td>\n",
       "    </tr>\n",
       "  </tbody>\n",
       "</table>\n",
       "<p>695 rows × 12 columns</p>\n",
       "</div>"
      ],
      "text/plain": [
       "                                                 mobility  confirmed  \\\n",
       "country_region province_state county date                              \n",
       "Afghanistan                          2020-01-22       NaN          0   \n",
       "                                     2020-01-23       NaN          0   \n",
       "                                     2020-01-24       NaN          0   \n",
       "                                     2020-01-25       NaN          0   \n",
       "                                     2020-01-26       NaN          0   \n",
       "...                                                   ...        ...   \n",
       "Angola                               2020-06-04       NaN         86   \n",
       "                                     2020-06-05       NaN         86   \n",
       "                                     2020-06-06       NaN         88   \n",
       "                                     2020-06-07       NaN         91   \n",
       "                                     2020-06-08       NaN         92   \n",
       "\n",
       "                                                 new_confirmed  n_c_change  \\\n",
       "country_region province_state county date                                    \n",
       "Afghanistan                          2020-01-22              0        -1.0   \n",
       "                                     2020-01-23              0        -1.0   \n",
       "                                     2020-01-24              0        -1.0   \n",
       "                                     2020-01-25              0        -1.0   \n",
       "                                     2020-01-26              0        -1.0   \n",
       "...                                                        ...         ...   \n",
       "Angola                               2020-06-04              0        -1.0   \n",
       "                                     2020-06-05              0        -1.0   \n",
       "                                     2020-06-06              2         3.0   \n",
       "                                     2020-06-07              3         5.0   \n",
       "                                     2020-06-08              1         1.0   \n",
       "\n",
       "                                                 deaths  new_deaths  \\\n",
       "country_region province_state county date                             \n",
       "Afghanistan                          2020-01-22       0           0   \n",
       "                                     2020-01-23       0           0   \n",
       "                                     2020-01-24       0           0   \n",
       "                                     2020-01-25       0           0   \n",
       "                                     2020-01-26       0           0   \n",
       "...                                                 ...         ...   \n",
       "Angola                               2020-06-04       4           0   \n",
       "                                     2020-06-05       4           0   \n",
       "                                     2020-06-06       4           0   \n",
       "                                     2020-06-07       4           0   \n",
       "                                     2020-06-08       4           0   \n",
       "\n",
       "                                                 n_d_change     shock  \\\n",
       "country_region province_state county date                               \n",
       "Afghanistan                          2020-01-22        -1.0  2.709091   \n",
       "                                     2020-01-23        -1.0  2.709091   \n",
       "                                     2020-01-24        -1.0  2.709091   \n",
       "                                     2020-01-25        -1.0  2.709091   \n",
       "                                     2020-01-26        -1.0  2.709091   \n",
       "...                                                     ...       ...   \n",
       "Angola                               2020-06-04        -1.0 -1.000000   \n",
       "                                     2020-06-05        -1.0 -1.000000   \n",
       "                                     2020-06-06        -1.0 -1.000000   \n",
       "                                     2020-06-07        -1.0 -1.000000   \n",
       "                                     2020-06-08        -1.0 -1.000000   \n",
       "\n",
       "                                                   growth  n_c_baseline_  \\\n",
       "country_region province_state county date                                  \n",
       "Afghanistan                          2020-01-22  3.361255          164.0   \n",
       "                                     2020-01-23  3.361255          164.0   \n",
       "                                     2020-01-24  3.361255          164.0   \n",
       "                                     2020-01-25  3.361255          164.0   \n",
       "                                     2020-01-26  3.361255          164.0   \n",
       "...                                                   ...            ...   \n",
       "Angola                               2020-06-04  1.181818            0.5   \n",
       "                                     2020-06-05  1.181818            0.5   \n",
       "                                     2020-06-06  1.181818            0.5   \n",
       "                                     2020-06-07  1.181818            0.5   \n",
       "                                     2020-06-08  1.181818            0.5   \n",
       "\n",
       "                                                 n_d_baseline_  \\\n",
       "country_region province_state county date                        \n",
       "Afghanistan                          2020-01-22            4.0   \n",
       "                                     2020-01-23            4.0   \n",
       "                                     2020-01-24            4.0   \n",
       "                                     2020-01-25            4.0   \n",
       "                                     2020-01-26            4.0   \n",
       "...                                                        ...   \n",
       "Angola                               2020-06-04            0.5   \n",
       "                                     2020-06-05            0.5   \n",
       "                                     2020-06-06            0.5   \n",
       "                                     2020-06-07            0.5   \n",
       "                                     2020-06-08            0.5   \n",
       "\n",
       "                                                      baseline_period_  \n",
       "country_region province_state county date                               \n",
       "Afghanistan                          2020-01-22  2020-04-15_2020-05-15  \n",
       "                                     2020-01-23  2020-04-15_2020-05-15  \n",
       "                                     2020-01-24  2020-04-15_2020-05-15  \n",
       "                                     2020-01-25  2020-04-15_2020-05-15  \n",
       "                                     2020-01-26  2020-04-15_2020-05-15  \n",
       "...                                                                ...  \n",
       "Angola                               2020-06-04  2020-04-15_2020-05-15  \n",
       "                                     2020-06-05  2020-04-15_2020-05-15  \n",
       "                                     2020-06-06  2020-04-15_2020-05-15  \n",
       "                                     2020-06-07  2020-04-15_2020-05-15  \n",
       "                                     2020-06-08  2020-04-15_2020-05-15  \n",
       "\n",
       "[695 rows x 12 columns]"
      ]
     },
     "execution_count": 16,
     "metadata": {},
     "output_type": "execute_result"
    }
   ],
   "source": [
    "# rearrange df\n",
    "df = df[['mobility', \n",
    "         'confirmed', 'new_confirmed', 'n_c_change', \n",
    "         'deaths', 'new_deaths', 'n_d_change', 'shock', 'growth', \n",
    "         'n_c_baseline_', 'n_d_baseline_', 'baseline_period_']]\n",
    "df.loc[idx['Afghanistan': 'Angola'],]"
   ]
  },
  {
   "cell_type": "markdown",
   "metadata": {},
   "source": [
    "**Saving DF dataset:**"
   ]
  },
  {
   "cell_type": "code",
   "execution_count": 17,
   "metadata": {},
   "outputs": [
    {
     "name": "stdout",
     "output_type": "stream",
     "text": [
      "Dataset shape: (490253, 12)\n",
      "Dataset columns:  ['mobility' 'confirmed' 'new_confirmed' 'n_c_change' 'deaths' 'new_deaths'\n",
      " 'n_d_change' 'shock' 'growth' 'n_c_baseline_' 'n_d_baseline_'\n",
      " 'baseline_period_']\n",
      "Wall time: 23.8 s\n"
     ]
    }
   ],
   "source": [
    "%%time\n",
    "print('Dataset shape:', df.shape)\n",
    "print('Dataset columns: ', df.columns.ravel())\n",
    "today = datetime.datetime.today().date()\n",
    "df.to_csv(f'datasets/{today}_covid19_stats.csv', index=True)\n",
    "pd.testing.assert_frame_equal(df, load_main_dataframe(today))"
   ]
  },
  {
   "cell_type": "markdown",
   "metadata": {},
   "source": [
    "**Building DF_YX:**"
   ]
  },
  {
   "cell_type": "code",
   "execution_count": 18,
   "metadata": {},
   "outputs": [
    {
     "name": "stdout",
     "output_type": "stream",
     "text": [
      "Wall time: 3.97 s\n"
     ]
    }
   ],
   "source": [
    "%%time\n",
    "df = load_main_dataframe(today)"
   ]
  },
  {
   "cell_type": "markdown",
   "metadata": {},
   "source": [
    "Let's first get rid of those places that have no *mobility* data"
   ]
  },
  {
   "cell_type": "code",
   "execution_count": 19,
   "metadata": {},
   "outputs": [
    {
     "name": "stdout",
     "output_type": "stream",
     "text": [
      "Wall time: 3.11 s\n"
     ]
    }
   ],
   "source": [
    "%%time\n",
    "df = df.loc[~df['mobility'].isna().all(axis=0, level=[0,1,2])]"
   ]
  },
  {
   "cell_type": "markdown",
   "metadata": {},
   "source": [
    "Let's find the last date that *mobility* data is available (which is not necessarily the lastest date in the dataset)"
   ]
  },
  {
   "cell_type": "code",
   "execution_count": 20,
   "metadata": {},
   "outputs": [],
   "source": [
    "closing_date = df.loc[~df['mobility'].isna()].index.max()[3]"
   ]
  },
  {
   "cell_type": "markdown",
   "metadata": {},
   "source": [
    "Now, we use final week values for indicator, and previous 4 weeks as feature values"
   ]
  },
  {
   "cell_type": "code",
   "execution_count": 21,
   "metadata": {},
   "outputs": [
    {
     "name": "stdout",
     "output_type": "stream",
     "text": [
      "X period: (Timestamp('2020-04-23 00:00:00'), Timestamp('2020-05-21 00:00:00'))\n",
      "Y period: (Timestamp('2020-05-22 00:00:00'), Timestamp('2020-05-29 00:00:00'))\n"
     ]
    }
   ],
   "source": [
    "week = pd.Timedelta('7 days')\n",
    "day = pd.Timedelta('1 day')\n",
    "\n",
    "x_period = (closing_date - 5 * week - day, closing_date - week - day)\n",
    "y_period = (closing_date - week, closing_date)\n",
    "print('X period:', x_period)\n",
    "print('Y period:', y_period)\n",
    "df_x = df.loc[idx[:,:,:, x_period[0]: x_period[1]], ['mobility', 'n_c_change', 'n_d_change']].copy()\n",
    "df_y = df.loc[idx[:,:,:, y_period[0]: y_period[1]], ['n_c_baseline_', 'n_d_baseline_','mobility', 'n_c_change', 'n_d_change']].copy()"
   ]
  },
  {
   "cell_type": "markdown",
   "metadata": {},
   "source": [
    "*df_y*"
   ]
  },
  {
   "cell_type": "code",
   "execution_count": 22,
   "metadata": {
    "scrolled": true
   },
   "outputs": [
    {
     "data": {
      "text/html": [
       "<div>\n",
       "<style scoped>\n",
       "    .dataframe tbody tr th:only-of-type {\n",
       "        vertical-align: middle;\n",
       "    }\n",
       "\n",
       "    .dataframe tbody tr th {\n",
       "        vertical-align: top;\n",
       "    }\n",
       "\n",
       "    .dataframe thead th {\n",
       "        text-align: right;\n",
       "    }\n",
       "</style>\n",
       "<table border=\"1\" class=\"dataframe\">\n",
       "  <thead>\n",
       "    <tr style=\"text-align: right;\">\n",
       "      <th></th>\n",
       "      <th></th>\n",
       "      <th></th>\n",
       "      <th>n_c_baseline_</th>\n",
       "      <th>n_d_baseline_</th>\n",
       "      <th>avg(mobility)</th>\n",
       "      <th>avg(n_c_change)</th>\n",
       "      <th>avg(n_d_change)</th>\n",
       "      <th>Y_period</th>\n",
       "      <th>X_period</th>\n",
       "    </tr>\n",
       "    <tr>\n",
       "      <th>country_region</th>\n",
       "      <th>province_state</th>\n",
       "      <th>county</th>\n",
       "      <th></th>\n",
       "      <th></th>\n",
       "      <th></th>\n",
       "      <th></th>\n",
       "      <th></th>\n",
       "      <th></th>\n",
       "      <th></th>\n",
       "    </tr>\n",
       "  </thead>\n",
       "  <tbody>\n",
       "    <tr>\n",
       "      <td>Afghanistan</td>\n",
       "      <td></td>\n",
       "      <td></td>\n",
       "      <td>164.0</td>\n",
       "      <td>4.0</td>\n",
       "      <td>-0.254375</td>\n",
       "      <td>2.798125</td>\n",
       "      <td>0.65625</td>\n",
       "      <td>2020-05-22_2020-05-29</td>\n",
       "      <td>2020-04-23_2020-05-21</td>\n",
       "    </tr>\n",
       "    <tr>\n",
       "      <td>Angola</td>\n",
       "      <td></td>\n",
       "      <td></td>\n",
       "      <td>0.5</td>\n",
       "      <td>0.5</td>\n",
       "      <td>-0.165875</td>\n",
       "      <td>4.750000</td>\n",
       "      <td>-0.75000</td>\n",
       "      <td>2020-05-22_2020-05-29</td>\n",
       "      <td>2020-04-23_2020-05-21</td>\n",
       "    </tr>\n",
       "    <tr>\n",
       "      <td>Antigua and Barbuda</td>\n",
       "      <td></td>\n",
       "      <td></td>\n",
       "      <td>0.5</td>\n",
       "      <td>0.5</td>\n",
       "      <td>-0.255125</td>\n",
       "      <td>-1.000000</td>\n",
       "      <td>-1.00000</td>\n",
       "      <td>2020-05-22_2020-05-29</td>\n",
       "      <td>2020-04-23_2020-05-21</td>\n",
       "    </tr>\n",
       "  </tbody>\n",
       "</table>\n",
       "</div>"
      ],
      "text/plain": [
       "                                           n_c_baseline_  n_d_baseline_  \\\n",
       "country_region      province_state county                                 \n",
       "Afghanistan                                        164.0            4.0   \n",
       "Angola                                               0.5            0.5   \n",
       "Antigua and Barbuda                                  0.5            0.5   \n",
       "\n",
       "                                           avg(mobility)  avg(n_c_change)  \\\n",
       "country_region      province_state county                                   \n",
       "Afghanistan                                    -0.254375         2.798125   \n",
       "Angola                                         -0.165875         4.750000   \n",
       "Antigua and Barbuda                            -0.255125        -1.000000   \n",
       "\n",
       "                                           avg(n_d_change)  \\\n",
       "country_region      province_state county                    \n",
       "Afghanistan                                        0.65625   \n",
       "Angola                                            -0.75000   \n",
       "Antigua and Barbuda                               -1.00000   \n",
       "\n",
       "                                                        Y_period  \\\n",
       "country_region      province_state county                          \n",
       "Afghanistan                                2020-05-22_2020-05-29   \n",
       "Angola                                     2020-05-22_2020-05-29   \n",
       "Antigua and Barbuda                        2020-05-22_2020-05-29   \n",
       "\n",
       "                                                        X_period  \n",
       "country_region      province_state county                         \n",
       "Afghanistan                                2020-04-23_2020-05-21  \n",
       "Angola                                     2020-04-23_2020-05-21  \n",
       "Antigua and Barbuda                        2020-04-23_2020-05-21  "
      ]
     },
     "execution_count": 22,
     "metadata": {},
     "output_type": "execute_result"
    }
   ],
   "source": [
    "df_y = df_y.mean(axis=0, level=[0,1,2])\n",
    "df_y.columns = df_y.columns[:2].tolist() + [f'avg({c})' for c in df_y.columns[2:]]\n",
    "df_y['Y_period'] = f'{y_period[0].date()}_{y_period[1].date()}'\n",
    "df_y['X_period'] = f'{x_period[0].date()}_{x_period[1].date()}'\n",
    "df_y.head(3)"
   ]
  },
  {
   "cell_type": "markdown",
   "metadata": {},
   "source": [
    "*df_x*"
   ]
  },
  {
   "cell_type": "code",
   "execution_count": 23,
   "metadata": {},
   "outputs": [],
   "source": [
    "df_x = (df_x\n",
    "        .reset_index()\n",
    "        .pivot_table(values=['mobility', 'n_c_change', 'n_d_change'], \n",
    "                     index=['country_region', 'province_state', 'county'], \n",
    "                     columns=['date']))\n",
    "df_x.columns = [f'X_{x[0]}_{x[1].date()}' for x in df_x.columns]"
   ]
  },
  {
   "cell_type": "code",
   "execution_count": 24,
   "metadata": {},
   "outputs": [
    {
     "data": {
      "text/html": [
       "<div>\n",
       "<style scoped>\n",
       "    .dataframe tbody tr th:only-of-type {\n",
       "        vertical-align: middle;\n",
       "    }\n",
       "\n",
       "    .dataframe tbody tr th {\n",
       "        vertical-align: top;\n",
       "    }\n",
       "\n",
       "    .dataframe thead th {\n",
       "        text-align: right;\n",
       "    }\n",
       "</style>\n",
       "<table border=\"1\" class=\"dataframe\">\n",
       "  <thead>\n",
       "    <tr style=\"text-align: right;\">\n",
       "      <th></th>\n",
       "      <th></th>\n",
       "      <th></th>\n",
       "      <th>X_mobility_2020-04-23</th>\n",
       "      <th>X_mobility_2020-04-24</th>\n",
       "      <th>X_mobility_2020-04-25</th>\n",
       "      <th>X_mobility_2020-04-26</th>\n",
       "      <th>X_mobility_2020-04-27</th>\n",
       "      <th>X_mobility_2020-04-28</th>\n",
       "      <th>X_mobility_2020-04-29</th>\n",
       "      <th>X_mobility_2020-04-30</th>\n",
       "      <th>X_mobility_2020-05-01</th>\n",
       "      <th>X_mobility_2020-05-02</th>\n",
       "      <th>...</th>\n",
       "      <th>X_n_d_change_2020-05-12</th>\n",
       "      <th>X_n_d_change_2020-05-13</th>\n",
       "      <th>X_n_d_change_2020-05-14</th>\n",
       "      <th>X_n_d_change_2020-05-15</th>\n",
       "      <th>X_n_d_change_2020-05-16</th>\n",
       "      <th>X_n_d_change_2020-05-17</th>\n",
       "      <th>X_n_d_change_2020-05-18</th>\n",
       "      <th>X_n_d_change_2020-05-19</th>\n",
       "      <th>X_n_d_change_2020-05-20</th>\n",
       "      <th>X_n_d_change_2020-05-21</th>\n",
       "    </tr>\n",
       "    <tr>\n",
       "      <th>country_region</th>\n",
       "      <th>province_state</th>\n",
       "      <th>county</th>\n",
       "      <th></th>\n",
       "      <th></th>\n",
       "      <th></th>\n",
       "      <th></th>\n",
       "      <th></th>\n",
       "      <th></th>\n",
       "      <th></th>\n",
       "      <th></th>\n",
       "      <th></th>\n",
       "      <th></th>\n",
       "      <th></th>\n",
       "      <th></th>\n",
       "      <th></th>\n",
       "      <th></th>\n",
       "      <th></th>\n",
       "      <th></th>\n",
       "      <th></th>\n",
       "      <th></th>\n",
       "      <th></th>\n",
       "      <th></th>\n",
       "      <th></th>\n",
       "    </tr>\n",
       "  </thead>\n",
       "  <tbody>\n",
       "    <tr>\n",
       "      <td>Afghanistan</td>\n",
       "      <td></td>\n",
       "      <td></td>\n",
       "      <td>-0.252</td>\n",
       "      <td>-0.223</td>\n",
       "      <td>-0.270</td>\n",
       "      <td>-0.275</td>\n",
       "      <td>-0.305</td>\n",
       "      <td>-0.267</td>\n",
       "      <td>-0.240</td>\n",
       "      <td>-0.267</td>\n",
       "      <td>-0.223</td>\n",
       "      <td>-0.270</td>\n",
       "      <td>...</td>\n",
       "      <td>0.25</td>\n",
       "      <td>0.25</td>\n",
       "      <td>0.0</td>\n",
       "      <td>3.25</td>\n",
       "      <td>2.75</td>\n",
       "      <td>-0.75</td>\n",
       "      <td>0.0</td>\n",
       "      <td>0.25</td>\n",
       "      <td>1.25</td>\n",
       "      <td>0.5</td>\n",
       "    </tr>\n",
       "    <tr>\n",
       "      <td>Angola</td>\n",
       "      <td></td>\n",
       "      <td></td>\n",
       "      <td>-0.340</td>\n",
       "      <td>-0.352</td>\n",
       "      <td>-0.262</td>\n",
       "      <td>-0.280</td>\n",
       "      <td>-0.252</td>\n",
       "      <td>-0.205</td>\n",
       "      <td>-0.210</td>\n",
       "      <td>-0.165</td>\n",
       "      <td>-0.358</td>\n",
       "      <td>-0.177</td>\n",
       "      <td>...</td>\n",
       "      <td>-1.00</td>\n",
       "      <td>-1.00</td>\n",
       "      <td>-1.0</td>\n",
       "      <td>-1.00</td>\n",
       "      <td>-1.00</td>\n",
       "      <td>-1.00</td>\n",
       "      <td>1.0</td>\n",
       "      <td>-1.00</td>\n",
       "      <td>-1.00</td>\n",
       "      <td>-1.0</td>\n",
       "    </tr>\n",
       "    <tr>\n",
       "      <td>Antigua and Barbuda</td>\n",
       "      <td></td>\n",
       "      <td></td>\n",
       "      <td>-0.524</td>\n",
       "      <td>-0.508</td>\n",
       "      <td>-0.504</td>\n",
       "      <td>-0.554</td>\n",
       "      <td>-0.367</td>\n",
       "      <td>-0.375</td>\n",
       "      <td>-0.353</td>\n",
       "      <td>-0.342</td>\n",
       "      <td>-0.323</td>\n",
       "      <td>-0.446</td>\n",
       "      <td>...</td>\n",
       "      <td>-1.00</td>\n",
       "      <td>-1.00</td>\n",
       "      <td>-1.0</td>\n",
       "      <td>-1.00</td>\n",
       "      <td>-1.00</td>\n",
       "      <td>-1.00</td>\n",
       "      <td>-1.0</td>\n",
       "      <td>-1.00</td>\n",
       "      <td>-1.00</td>\n",
       "      <td>-1.0</td>\n",
       "    </tr>\n",
       "  </tbody>\n",
       "</table>\n",
       "<p>3 rows × 87 columns</p>\n",
       "</div>"
      ],
      "text/plain": [
       "                                           X_mobility_2020-04-23  \\\n",
       "country_region      province_state county                          \n",
       "Afghanistan                                               -0.252   \n",
       "Angola                                                    -0.340   \n",
       "Antigua and Barbuda                                       -0.524   \n",
       "\n",
       "                                           X_mobility_2020-04-24  \\\n",
       "country_region      province_state county                          \n",
       "Afghanistan                                               -0.223   \n",
       "Angola                                                    -0.352   \n",
       "Antigua and Barbuda                                       -0.508   \n",
       "\n",
       "                                           X_mobility_2020-04-25  \\\n",
       "country_region      province_state county                          \n",
       "Afghanistan                                               -0.270   \n",
       "Angola                                                    -0.262   \n",
       "Antigua and Barbuda                                       -0.504   \n",
       "\n",
       "                                           X_mobility_2020-04-26  \\\n",
       "country_region      province_state county                          \n",
       "Afghanistan                                               -0.275   \n",
       "Angola                                                    -0.280   \n",
       "Antigua and Barbuda                                       -0.554   \n",
       "\n",
       "                                           X_mobility_2020-04-27  \\\n",
       "country_region      province_state county                          \n",
       "Afghanistan                                               -0.305   \n",
       "Angola                                                    -0.252   \n",
       "Antigua and Barbuda                                       -0.367   \n",
       "\n",
       "                                           X_mobility_2020-04-28  \\\n",
       "country_region      province_state county                          \n",
       "Afghanistan                                               -0.267   \n",
       "Angola                                                    -0.205   \n",
       "Antigua and Barbuda                                       -0.375   \n",
       "\n",
       "                                           X_mobility_2020-04-29  \\\n",
       "country_region      province_state county                          \n",
       "Afghanistan                                               -0.240   \n",
       "Angola                                                    -0.210   \n",
       "Antigua and Barbuda                                       -0.353   \n",
       "\n",
       "                                           X_mobility_2020-04-30  \\\n",
       "country_region      province_state county                          \n",
       "Afghanistan                                               -0.267   \n",
       "Angola                                                    -0.165   \n",
       "Antigua and Barbuda                                       -0.342   \n",
       "\n",
       "                                           X_mobility_2020-05-01  \\\n",
       "country_region      province_state county                          \n",
       "Afghanistan                                               -0.223   \n",
       "Angola                                                    -0.358   \n",
       "Antigua and Barbuda                                       -0.323   \n",
       "\n",
       "                                           X_mobility_2020-05-02  ...  \\\n",
       "country_region      province_state county                         ...   \n",
       "Afghanistan                                               -0.270  ...   \n",
       "Angola                                                    -0.177  ...   \n",
       "Antigua and Barbuda                                       -0.446  ...   \n",
       "\n",
       "                                           X_n_d_change_2020-05-12  \\\n",
       "country_region      province_state county                            \n",
       "Afghanistan                                                   0.25   \n",
       "Angola                                                       -1.00   \n",
       "Antigua and Barbuda                                          -1.00   \n",
       "\n",
       "                                           X_n_d_change_2020-05-13  \\\n",
       "country_region      province_state county                            \n",
       "Afghanistan                                                   0.25   \n",
       "Angola                                                       -1.00   \n",
       "Antigua and Barbuda                                          -1.00   \n",
       "\n",
       "                                           X_n_d_change_2020-05-14  \\\n",
       "country_region      province_state county                            \n",
       "Afghanistan                                                    0.0   \n",
       "Angola                                                        -1.0   \n",
       "Antigua and Barbuda                                           -1.0   \n",
       "\n",
       "                                           X_n_d_change_2020-05-15  \\\n",
       "country_region      province_state county                            \n",
       "Afghanistan                                                   3.25   \n",
       "Angola                                                       -1.00   \n",
       "Antigua and Barbuda                                          -1.00   \n",
       "\n",
       "                                           X_n_d_change_2020-05-16  \\\n",
       "country_region      province_state county                            \n",
       "Afghanistan                                                   2.75   \n",
       "Angola                                                       -1.00   \n",
       "Antigua and Barbuda                                          -1.00   \n",
       "\n",
       "                                           X_n_d_change_2020-05-17  \\\n",
       "country_region      province_state county                            \n",
       "Afghanistan                                                  -0.75   \n",
       "Angola                                                       -1.00   \n",
       "Antigua and Barbuda                                          -1.00   \n",
       "\n",
       "                                           X_n_d_change_2020-05-18  \\\n",
       "country_region      province_state county                            \n",
       "Afghanistan                                                    0.0   \n",
       "Angola                                                         1.0   \n",
       "Antigua and Barbuda                                           -1.0   \n",
       "\n",
       "                                           X_n_d_change_2020-05-19  \\\n",
       "country_region      province_state county                            \n",
       "Afghanistan                                                   0.25   \n",
       "Angola                                                       -1.00   \n",
       "Antigua and Barbuda                                          -1.00   \n",
       "\n",
       "                                           X_n_d_change_2020-05-20  \\\n",
       "country_region      province_state county                            \n",
       "Afghanistan                                                   1.25   \n",
       "Angola                                                       -1.00   \n",
       "Antigua and Barbuda                                          -1.00   \n",
       "\n",
       "                                           X_n_d_change_2020-05-21  \n",
       "country_region      province_state county                           \n",
       "Afghanistan                                                    0.5  \n",
       "Angola                                                        -1.0  \n",
       "Antigua and Barbuda                                           -1.0  \n",
       "\n",
       "[3 rows x 87 columns]"
      ]
     },
     "execution_count": 24,
     "metadata": {},
     "output_type": "execute_result"
    }
   ],
   "source": [
    "df_x.head(3)"
   ]
  },
  {
   "cell_type": "markdown",
   "metadata": {},
   "source": [
    "*df_yx*"
   ]
  },
  {
   "cell_type": "code",
   "execution_count": 25,
   "metadata": {},
   "outputs": [
    {
     "data": {
      "text/html": [
       "<div>\n",
       "<style scoped>\n",
       "    .dataframe tbody tr th:only-of-type {\n",
       "        vertical-align: middle;\n",
       "    }\n",
       "\n",
       "    .dataframe tbody tr th {\n",
       "        vertical-align: top;\n",
       "    }\n",
       "\n",
       "    .dataframe thead th {\n",
       "        text-align: right;\n",
       "    }\n",
       "</style>\n",
       "<table border=\"1\" class=\"dataframe\">\n",
       "  <thead>\n",
       "    <tr style=\"text-align: right;\">\n",
       "      <th></th>\n",
       "      <th>location</th>\n",
       "      <th>n_c_baseline_</th>\n",
       "      <th>n_d_baseline_</th>\n",
       "      <th>avg(mobility)</th>\n",
       "      <th>avg(n_c_change)</th>\n",
       "      <th>avg(n_d_change)</th>\n",
       "      <th>Y_period</th>\n",
       "      <th>X_period</th>\n",
       "      <th>X_mobility_2020-04-23</th>\n",
       "      <th>X_mobility_2020-04-24</th>\n",
       "      <th>...</th>\n",
       "      <th>X_n_d_change_2020-05-12</th>\n",
       "      <th>X_n_d_change_2020-05-13</th>\n",
       "      <th>X_n_d_change_2020-05-14</th>\n",
       "      <th>X_n_d_change_2020-05-15</th>\n",
       "      <th>X_n_d_change_2020-05-16</th>\n",
       "      <th>X_n_d_change_2020-05-17</th>\n",
       "      <th>X_n_d_change_2020-05-18</th>\n",
       "      <th>X_n_d_change_2020-05-19</th>\n",
       "      <th>X_n_d_change_2020-05-20</th>\n",
       "      <th>X_n_d_change_2020-05-21</th>\n",
       "    </tr>\n",
       "  </thead>\n",
       "  <tbody>\n",
       "    <tr>\n",
       "      <td>0</td>\n",
       "      <td>Afghanistan</td>\n",
       "      <td>164.0</td>\n",
       "      <td>4.0</td>\n",
       "      <td>-0.254375</td>\n",
       "      <td>2.798125</td>\n",
       "      <td>0.65625</td>\n",
       "      <td>2020-05-22_2020-05-29</td>\n",
       "      <td>2020-04-23_2020-05-21</td>\n",
       "      <td>-0.252</td>\n",
       "      <td>-0.223</td>\n",
       "      <td>...</td>\n",
       "      <td>0.25</td>\n",
       "      <td>0.25</td>\n",
       "      <td>0.0</td>\n",
       "      <td>3.25</td>\n",
       "      <td>2.75</td>\n",
       "      <td>-0.75</td>\n",
       "      <td>0.0</td>\n",
       "      <td>0.25</td>\n",
       "      <td>1.25</td>\n",
       "      <td>0.5</td>\n",
       "    </tr>\n",
       "    <tr>\n",
       "      <td>1</td>\n",
       "      <td>Angola</td>\n",
       "      <td>0.5</td>\n",
       "      <td>0.5</td>\n",
       "      <td>-0.165875</td>\n",
       "      <td>4.750000</td>\n",
       "      <td>-0.75000</td>\n",
       "      <td>2020-05-22_2020-05-29</td>\n",
       "      <td>2020-04-23_2020-05-21</td>\n",
       "      <td>-0.340</td>\n",
       "      <td>-0.352</td>\n",
       "      <td>...</td>\n",
       "      <td>-1.00</td>\n",
       "      <td>-1.00</td>\n",
       "      <td>-1.0</td>\n",
       "      <td>-1.00</td>\n",
       "      <td>-1.00</td>\n",
       "      <td>-1.00</td>\n",
       "      <td>1.0</td>\n",
       "      <td>-1.00</td>\n",
       "      <td>-1.00</td>\n",
       "      <td>-1.0</td>\n",
       "    </tr>\n",
       "    <tr>\n",
       "      <td>2</td>\n",
       "      <td>Antigua and Barbuda</td>\n",
       "      <td>0.5</td>\n",
       "      <td>0.5</td>\n",
       "      <td>-0.255125</td>\n",
       "      <td>-1.000000</td>\n",
       "      <td>-1.00000</td>\n",
       "      <td>2020-05-22_2020-05-29</td>\n",
       "      <td>2020-04-23_2020-05-21</td>\n",
       "      <td>-0.524</td>\n",
       "      <td>-0.508</td>\n",
       "      <td>...</td>\n",
       "      <td>-1.00</td>\n",
       "      <td>-1.00</td>\n",
       "      <td>-1.0</td>\n",
       "      <td>-1.00</td>\n",
       "      <td>-1.00</td>\n",
       "      <td>-1.00</td>\n",
       "      <td>-1.0</td>\n",
       "      <td>-1.00</td>\n",
       "      <td>-1.00</td>\n",
       "      <td>-1.0</td>\n",
       "    </tr>\n",
       "  </tbody>\n",
       "</table>\n",
       "<p>3 rows × 95 columns</p>\n",
       "</div>"
      ],
      "text/plain": [
       "                location  n_c_baseline_  n_d_baseline_  avg(mobility)  \\\n",
       "0          Afghanistan            164.0            4.0      -0.254375   \n",
       "1               Angola              0.5            0.5      -0.165875   \n",
       "2  Antigua and Barbuda              0.5            0.5      -0.255125   \n",
       "\n",
       "   avg(n_c_change)  avg(n_d_change)               Y_period  \\\n",
       "0         2.798125          0.65625  2020-05-22_2020-05-29   \n",
       "1         4.750000         -0.75000  2020-05-22_2020-05-29   \n",
       "2        -1.000000         -1.00000  2020-05-22_2020-05-29   \n",
       "\n",
       "                X_period  X_mobility_2020-04-23  X_mobility_2020-04-24  ...  \\\n",
       "0  2020-04-23_2020-05-21                 -0.252                 -0.223  ...   \n",
       "1  2020-04-23_2020-05-21                 -0.340                 -0.352  ...   \n",
       "2  2020-04-23_2020-05-21                 -0.524                 -0.508  ...   \n",
       "\n",
       "   X_n_d_change_2020-05-12  X_n_d_change_2020-05-13  X_n_d_change_2020-05-14  \\\n",
       "0                     0.25                     0.25                      0.0   \n",
       "1                    -1.00                    -1.00                     -1.0   \n",
       "2                    -1.00                    -1.00                     -1.0   \n",
       "\n",
       "   X_n_d_change_2020-05-15  X_n_d_change_2020-05-16  X_n_d_change_2020-05-17  \\\n",
       "0                     3.25                     2.75                    -0.75   \n",
       "1                    -1.00                    -1.00                    -1.00   \n",
       "2                    -1.00                    -1.00                    -1.00   \n",
       "\n",
       "   X_n_d_change_2020-05-18  X_n_d_change_2020-05-19  X_n_d_change_2020-05-20  \\\n",
       "0                      0.0                     0.25                     1.25   \n",
       "1                      1.0                    -1.00                    -1.00   \n",
       "2                     -1.0                    -1.00                    -1.00   \n",
       "\n",
       "   X_n_d_change_2020-05-21  \n",
       "0                      0.5  \n",
       "1                     -1.0  \n",
       "2                     -1.0  \n",
       "\n",
       "[3 rows x 95 columns]"
      ]
     },
     "execution_count": 25,
     "metadata": {},
     "output_type": "execute_result"
    }
   ],
   "source": [
    "df_yx = (pd.merge(left=df_y, right=df_x, left_index=True, right_index=True, how='inner')\n",
    "         .reset_index())\n",
    "df_yx[['country_region', 'province_state', 'county']] = \\\n",
    "                df_yx[['country_region', 'province_state', 'county']].replace('nan', '')\n",
    "df_yx['country_region'] = df_yx['country_region'] + df_yx['province_state'] + df_yx['county']\n",
    "df_yx = df_yx.drop(axis=1, labels=['province_state', 'county']).rename(columns={'country_region':'location'})\n",
    "df_yx.head(3)"
   ]
  },
  {
   "cell_type": "markdown",
   "metadata": {},
   "source": [
    "**Saving DF_YX dataset:**"
   ]
  },
  {
   "cell_type": "code",
   "execution_count": 26,
   "metadata": {},
   "outputs": [
    {
     "name": "stdout",
     "output_type": "stream",
     "text": [
      "Dataset shape: (2908, 95)\n",
      "Dataset columns:  Index(['location', 'n_c_baseline_', 'n_d_baseline_', 'avg(mobility)',\n",
      "       'avg(n_c_change)', 'avg(n_d_change)', 'Y_period', 'X_period',\n",
      "       'X_mobility_2020-04-23', 'X_mobility_2020-04-24',\n",
      "       'X_mobility_2020-04-25', 'X_mobility_2020-04-26',\n",
      "       'X_mobility_2020-04-27', 'X_mobility_2020-04-28',\n",
      "       'X_mobility_2020-04-29', 'X_mobility_2020-04-30',\n",
      "       'X_mobility_2020-05-01', 'X_mobility_2020-05-02',\n",
      "       'X_mobility_2020-05-03', 'X_mobility_2020-05-04',\n",
      "       'X_mobility_2020-05-05', 'X_mobility_2020-05-06',\n",
      "       'X_mobility_2020-05-07', 'X_mobility_2020-05-08',\n",
      "       'X_mobility_2020-05-09', 'X_mobility_2020-05-10',\n",
      "       'X_mobility_2020-05-11', 'X_mobility_2020-05-12',\n",
      "       'X_mobility_2020-05-13', 'X_mobility_2020-05-14',\n",
      "       'X_mobility_2020-05-15', 'X_mobility_2020-05-16',\n",
      "       'X_mobility_2020-05-17', 'X_mobility_2020-05-18',\n",
      "       'X_mobility_2020-05-19', 'X_mobility_2020-05-20',\n",
      "       'X_mobility_2020-05-21', 'X_n_c_change_2020-04-23',\n",
      "       'X_n_c_change_2020-04-24', 'X_n_c_change_2020-04-25',\n",
      "       'X_n_c_change_2020-04-26', 'X_n_c_change_2020-04-27',\n",
      "       'X_n_c_change_2020-04-28', 'X_n_c_change_2020-04-29',\n",
      "       'X_n_c_change_2020-04-30', 'X_n_c_change_2020-05-01',\n",
      "       'X_n_c_change_2020-05-02', 'X_n_c_change_2020-05-03',\n",
      "       'X_n_c_change_2020-05-04', 'X_n_c_change_2020-05-05',\n",
      "       'X_n_c_change_2020-05-06', 'X_n_c_change_2020-05-07',\n",
      "       'X_n_c_change_2020-05-08', 'X_n_c_change_2020-05-09',\n",
      "       'X_n_c_change_2020-05-10', 'X_n_c_change_2020-05-11',\n",
      "       'X_n_c_change_2020-05-12', 'X_n_c_change_2020-05-13',\n",
      "       'X_n_c_change_2020-05-14', 'X_n_c_change_2020-05-15',\n",
      "       'X_n_c_change_2020-05-16', 'X_n_c_change_2020-05-17',\n",
      "       'X_n_c_change_2020-05-18', 'X_n_c_change_2020-05-19',\n",
      "       'X_n_c_change_2020-05-20', 'X_n_c_change_2020-05-21',\n",
      "       'X_n_d_change_2020-04-23', 'X_n_d_change_2020-04-24',\n",
      "       'X_n_d_change_2020-04-25', 'X_n_d_change_2020-04-26',\n",
      "       'X_n_d_change_2020-04-27', 'X_n_d_change_2020-04-28',\n",
      "       'X_n_d_change_2020-04-29', 'X_n_d_change_2020-04-30',\n",
      "       'X_n_d_change_2020-05-01', 'X_n_d_change_2020-05-02',\n",
      "       'X_n_d_change_2020-05-03', 'X_n_d_change_2020-05-04',\n",
      "       'X_n_d_change_2020-05-05', 'X_n_d_change_2020-05-06',\n",
      "       'X_n_d_change_2020-05-07', 'X_n_d_change_2020-05-08',\n",
      "       'X_n_d_change_2020-05-09', 'X_n_d_change_2020-05-10',\n",
      "       'X_n_d_change_2020-05-11', 'X_n_d_change_2020-05-12',\n",
      "       'X_n_d_change_2020-05-13', 'X_n_d_change_2020-05-14',\n",
      "       'X_n_d_change_2020-05-15', 'X_n_d_change_2020-05-16',\n",
      "       'X_n_d_change_2020-05-17', 'X_n_d_change_2020-05-18',\n",
      "       'X_n_d_change_2020-05-19', 'X_n_d_change_2020-05-20',\n",
      "       'X_n_d_change_2020-05-21'],\n",
      "      dtype='object')\n"
     ]
    }
   ],
   "source": [
    "print('Dataset shape:', df_yx.shape)\n",
    "print('Dataset columns: ', df_yx.columns)\n",
    "today = datetime.datetime.today().date()\n",
    "df_yx.to_csv(f'datasets/{today}_covid19_ml.csv', index=False)\n",
    "assert(df_yx.equals(load_yx_dataframe(today))), 'Saved dataset does not match newly loaded one'"
   ]
  },
  {
   "cell_type": "markdown",
   "metadata": {},
   "source": [
    "# Representation <a class='anchor' id='representation'></a>"
   ]
  },
  {
   "cell_type": "code",
   "execution_count": 27,
   "metadata": {},
   "outputs": [],
   "source": [
    "%matplotlib inline"
   ]
  },
  {
   "cell_type": "code",
   "execution_count": 28,
   "metadata": {},
   "outputs": [],
   "source": [
    "df = load_main_dataframe()"
   ]
  },
  {
   "cell_type": "code",
   "execution_count": 29,
   "metadata": {},
   "outputs": [
    {
     "data": {
      "text/plain": [
       "Index(['mobility', 'confirmed', 'new_confirmed', 'n_c_change', 'deaths',\n",
       "       'new_deaths', 'n_d_change', 'shock', 'growth', 'n_c_baseline_',\n",
       "       'n_d_baseline_', 'baseline_period_'],\n",
       "      dtype='object')"
      ]
     },
     "execution_count": 29,
     "metadata": {},
     "output_type": "execute_result"
    }
   ],
   "source": [
    "df.columns"
   ]
  },
  {
   "cell_type": "code",
   "execution_count": 30,
   "metadata": {},
   "outputs": [],
   "source": [
    "shocks = df['shock'].groupby(axis=0, level=[0,1,2]).agg(np.max).sort_values(ascending=False)\n",
    "growths = df['growth'].groupby(axis=0, level=[0,1,2]).agg(np.max).sort_values(ascending=False)"
   ]
  },
  {
   "cell_type": "code",
   "execution_count": 31,
   "metadata": {},
   "outputs": [
    {
     "data": {
      "text/plain": [
       "Text(0, 0.5, 'shock')"
      ]
     },
     "execution_count": 31,
     "metadata": {},
     "output_type": "execute_result"
    },
    {
     "data": {
      "image/png": "[encoded data removed]",
      "text/plain": [
       "<Figure size 432x288 with 1 Axes>"
      ]
     },
     "metadata": {
      "needs_background": "light"
     },
     "output_type": "display_data"
    }
   ],
   "source": [
    "fig, ax = plt.subplots()\n",
    "ax.scatter(x=growths.iloc[1:15]/2, y=shocks.iloc[1:15], marker='o', s=10)\n",
    "ax.set_aspect(1.0)\n",
    "plt.xlabel('growth')\n",
    "plt.ylabel('shock')"
   ]
  },
  {
   "cell_type": "code",
   "execution_count": 32,
   "metadata": {},
   "outputs": [
    {
     "name": "stdout",
     "output_type": "stream",
     "text": [
      "new confirmed baseline: 27157.0\n",
      "new deaths baseline: 1779.0\n"
     ]
    },
    {
     "data": {
      "image/png": "[encoded data removed]",
      "text/plain": [
       "<Figure size 864x432 with 1 Axes>"
      ]
     },
     "metadata": {
      "needs_background": "light"
     },
     "output_type": "display_data"
    }
   ],
   "source": [
    "nidx = idx['United States', ' ',' ']\n",
    "df.loc[nidx, 'n_c_change'].plot(figsize=(12, 6))\n",
    "df.loc[nidx, 'n_d_change'].plot(figsize=(12, 6))\n",
    "df.loc[nidx, 'mobility'].plot(figsize=(12, 6))\n",
    "print('new confirmed baseline:', df.loc[nidx, 'n_c_baseline_'].values[0])\n",
    "print('new deaths baseline:', df.loc[nidx, 'n_d_baseline_'].values[0])"
   ]
  },
  {
   "cell_type": "code",
   "execution_count": 33,
   "metadata": {},
   "outputs": [
    {
     "name": "stdout",
     "output_type": "stream",
     "text": [
      "new confirmed baseline: 2231.0\n",
      "new deaths baseline: 257.0\n"
     ]
    },
    {
     "data": {
      "image/png": "[encoded data removed]",
      "text/plain": [
       "<Figure size 864x432 with 1 Axes>"
      ]
     },
     "metadata": {
      "needs_background": "light"
     },
     "output_type": "display_data"
    }
   ],
   "source": [
    "nidx = idx['United States', 'New York','New York']\n",
    "df.loc[nidx, 'n_c_change'].plot(figsize=(12, 6))\n",
    "df.loc[nidx, 'n_d_change'].plot(figsize=(12, 6))\n",
    "df.loc[nidx, 'mobility'].plot(figsize=(12, 6))\n",
    "print('new confirmed baseline:', df.loc[nidx, 'n_c_baseline_'].values[0])\n",
    "print('new deaths baseline:', df.loc[nidx, 'n_d_baseline_'].values[0])"
   ]
  },
  {
   "cell_type": "code",
   "execution_count": 34,
   "metadata": {},
   "outputs": [
    {
     "name": "stdout",
     "output_type": "stream",
     "text": [
      "new confirmed baseline: 829.0\n",
      "new deaths baseline: 45.0\n"
     ]
    },
    {
     "data": {
      "image/png": "[encoded data removed]",
      "text/plain": [
       "<Figure size 864x432 with 1 Axes>"
      ]
     },
     "metadata": {
      "needs_background": "light"
     },
     "output_type": "display_data"
    }
   ],
   "source": [
    "nidx = idx['United States', 'California','Los Angeles']\n",
    "df.loc[nidx, 'n_c_change'].plot(figsize=(12, 6))\n",
    "df.loc[nidx, 'n_d_change'].plot(figsize=(12, 6))\n",
    "df.loc[nidx, 'mobility'].plot(figsize=(12, 6))\n",
    "print('new confirmed baseline:', df.loc[nidx, 'n_c_baseline_'].values[0])\n",
    "print('new deaths baseline:', df.loc[nidx, 'n_d_baseline_'].values[0])"
   ]
  },
  {
   "cell_type": "code",
   "execution_count": 35,
   "metadata": {},
   "outputs": [
    {
     "name": "stdout",
     "output_type": "stream",
     "text": [
      "new confirmed baseline: 1158.0\n",
      "new deaths baseline: 123.0\n"
     ]
    },
    {
     "data": {
      "image/png": "[encoded data removed]",
      "text/plain": [
       "<Figure size 864x432 with 1 Axes>"
      ]
     },
     "metadata": {
      "needs_background": "light"
     },
     "output_type": "display_data"
    }
   ],
   "source": [
    "nidx = idx['Germany', ' ',' ']\n",
    "df.loc[nidx, 'n_c_change'].plot(figsize=(12, 6))\n",
    "df.loc[nidx, 'n_d_change'].plot(figsize=(12, 6))\n",
    "df.loc[nidx, 'mobility'].plot(figsize=(12, 6))\n",
    "print('new confirmed baseline:', df.loc[nidx, 'n_c_baseline_'].values[0])\n",
    "print('new deaths baseline:', df.loc[nidx, 'n_d_baseline_'].values[0])"
   ]
  },
  {
   "cell_type": "code",
   "execution_count": 37,
   "metadata": {},
   "outputs": [
    {
     "name": "stdout",
     "output_type": "stream",
     "text": [
      "new confirmed baseline: 1323.0\n",
      "new deaths baseline: 71.0\n"
     ]
    },
    {
     "data": {
      "image/png": "[encoded data removed]",
      "text/plain": [
       "<Figure size 864x432 with 1 Axes>"
      ]
     },
     "metadata": {
      "needs_background": "light"
     },
     "output_type": "display_data"
    }
   ],
   "source": [
    "nidx = idx['Iran', ' ',' ']\n",
    "df.loc[nidx, 'n_c_change'].plot(figsize=(12, 6))\n",
    "df.loc[nidx, 'n_d_change'].plot(figsize=(12, 6))\n",
    "df.loc[nidx, 'mobility'].plot(figsize=(12, 6))\n",
    "print('new confirmed baseline:', df.loc[nidx, 'n_c_baseline_'].values[0])\n",
    "print('new deaths baseline:', df.loc[nidx, 'n_d_baseline_'].values[0])"
   ]
  }
 ],
 "metadata": {
  "kernelspec": {
   "display_name": "Python 3",
   "language": "python",
   "name": "python3"
  },
  "language_info": {
   "codemirror_mode": {
    "name": "ipython",
    "version": 3
   },
   "file_extension": ".py",
   "mimetype": "text/x-python",
   "name": "python",
   "nbconvert_exporter": "python",
   "pygments_lexer": "ipython3",
   "version": "3.6.9"
  },
  "toc": {
   "base_numbering": 1,
   "nav_menu": {},
   "number_sections": true,
   "sideBar": true,
   "skip_h1_title": false,
   "title_cell": "Table of Contents",
   "title_sidebar": "Contents",
   "toc_cell": false,
   "toc_position": {
    "height": "calc(100% - 180px)",
    "left": "10px",
    "top": "150px",
    "width": "220.6px"
   },
   "toc_section_display": true,
   "toc_window_display": true
  }
 },
 "nbformat": 4,
 "nbformat_minor": 2
}
