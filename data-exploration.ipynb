{
 "cells": [
  {
   "cell_type": "markdown",
   "metadata": {},
   "source": [
    "# Outline:\n",
    "* [Configuration](#config)\n",
    "* [Functions](#functions)\n",
    "* [Loading-data](#loading-data)\n",
    "* [Data-manipulation](#manipulation)\n",
    "* [Representation](#representation)"
   ]
  },
  {
   "cell_type": "markdown",
   "metadata": {},
   "source": [
    "# Configuration <a class='anchor' id='config'></a>"
   ]
  },
  {
   "cell_type": "code",
   "execution_count": 1,
   "metadata": {},
   "outputs": [],
   "source": [
    "import numpy as np\n",
    "import pandas as pd\n",
    "import matplotlib.pyplot as plt\n",
    "import datetime\n",
    "\n",
    "\n",
    "url_csse_covid_19_daily_reports = (\"https://github.com/CSSEGISandData/COVID-19/tree/master/\"\n",
    "                                   \"csse_covid_19_data/csse_covid_19_daily_reports\")\n",
    "url_csse_covid_19_daily_reports_us = (\"https://github.com/CSSEGISandData/COVID-19/tree/master/\"\n",
    "                                      \"csse_covid_19_data/csse_covid_19_daily_reports_us\")\n",
    "\n",
    "url_time_series_covid19_confirmed_global = (\"https://raw.githubusercontent.com/CSSEGISandData/COVID-19/master/\"\n",
    "                        \"csse_covid_19_data/csse_covid_19_time_series/time_series_covid19_confirmed_global.csv\")\n",
    "url_time_series_covid19_deaths_global = (\"https://raw.githubusercontent.com/CSSEGISandData/COVID-19/master/\"\n",
    "                        \"csse_covid_19_data/csse_covid_19_time_series/time_series_covid19_deaths_global.csv\")\n",
    "url_time_series_covid19_recovered_global = (\"https://github.com/CSSEGISandData/COVID-19/raw/master/\"\n",
    " \"csse_covid_19_data/csse_covid_19_time_series/time_series_covid19_recovered_global.csv\")\n",
    "\n",
    "url_time_series_covid19_confirmed_US = (\"https://raw.githubusercontent.com/CSSEGISandData/COVID-19/master/\"\n",
    "                        \"csse_covid_19_data/csse_covid_19_time_series/time_series_covid19_confirmed_US.csv\")\n",
    "url_time_series_covid19_deaths_US = (\"https://raw.githubusercontent.com/CSSEGISandData/COVID-19/master/\"\n",
    "                        \"csse_covid_19_data/csse_covid_19_time_series/time_series_covid19_deaths_US.csv\")\n",
    "\n",
    "yesterday = datetime.date.today() - datetime.timedelta(days=1)\n",
    "url_apple_mobility_trends = ('https://covid19-static.cdn-apple.com/covid19-mobility-data/'\n",
    "                             f'2009HotfixDev19/v3/en-us/applemobilitytrends-{yesterday}.csv')\n",
    "url_google_mobility_report = 'https://www.gstatic.com/covid19/mobility/Global_Mobility_Report.csv'"
   ]
  },
  {
   "cell_type": "markdown",
   "metadata": {},
   "source": [
    "# functions <a class='anchor' id='functions'></a>"
   ]
  },
  {
   "cell_type": "code",
   "execution_count": 2,
   "metadata": {},
   "outputs": [],
   "source": [
    "def load_data(url, dtype=None):    \n",
    "    import os\n",
    "    from six.moves import urllib\n",
    "    _, filename = url.rsplit('/', 1)\n",
    "    filename = str(datetime.date.today()) + '_' + filename\n",
    "    filepath = 'datasets/' + filename\n",
    "    if not os.path.isdir('datasets'):\n",
    "        os.makedirs('datasets')\n",
    "    try:\n",
    "        if not os.path.exists(filepath):\n",
    "            urllib.request.urlretrieve(url, filepath)\n",
    "    except:\n",
    "        print('Could not retrieve ' + url)\n",
    "        raise\n",
    "    return pd.read_csv(filepath, dtype=dtype)\n",
    "\n",
    "def format_columns(df):\n",
    "    column_mapping = {'sub_region_1': 'province_state', 'sub_region_2': 'county', 'admin2': 'county',\n",
    "                 'country/region':'country_region', 'province/state': 'province_state', 'long_': 'long'}    \n",
    "    dates = {}\n",
    "    names = {}\n",
    "    for col in df.columns:\n",
    "        try:\n",
    "            dates[col] = pd.to_datetime(col).date()\n",
    "        except:\n",
    "            names[col] = str.lower(col)\n",
    "    df = df.rename(columns=names).rename(columns=dates)    \n",
    "    cols_order = list(names.values()) + sorted(dates.values(), reverse=True)\n",
    "    df = df[cols_order]\n",
    "    df = df.rename(columns=column_mapping)\n",
    "    if 'county' not in df.columns:\n",
    "        df['county'] = np.nan\n",
    "    df['country_region'] = df['country_region'].astype(str)\n",
    "    df['province_state'] = df['province_state'].astype(str)\n",
    "    df['county'] = df['county'].astype(str)    \n",
    "    return df\n",
    "\n",
    "def format_cells(df):\n",
    "    df = df.copy()\n",
    "    name_mapping = {'The Bahamas':'Bahamas', \"Côte d'Ivoire\":\"Cote d'Ivoire\", 'Myanmar (Burma)': 'Burma', \n",
    "                 'Korea, South': 'South Korea', 'Taiwan*':'Taiwan', 'US': 'United States'} \n",
    "    regex_mapping = {r'\\s(p|P)rovince': '', r'\\s(c|C)ounty': ''}\n",
    "    df = df.replace(to_replace=name_mapping).replace(regex=regex_mapping)\n",
    "    if 'population' in df.columns:\n",
    "        df.loc[df['population'] <= 0, 'population'] = np.nan\n",
    "    return df\n",
    "\n",
    "def sparse_columns(df, sparsity_level=0.5):\n",
    "    return df.columns[df.isna().sum() > df.shape[0] * sparsity_level].values\n"
   ]
  },
  {
   "cell_type": "code",
   "execution_count": 3,
   "metadata": {},
   "outputs": [],
   "source": [
    "def get_time_series_data(url):\n",
    "    df = format_cells(format_columns(load_data(url)))\n",
    "    date_columns = [c for c in df.columns if isinstance(c, datetime.date)]\n",
    "    # melt: Unpivots a DataFrame from wide format to long format\n",
    "    df = df.melt(value_vars=date_columns,\n",
    "                 id_vars=['country_region', 'province_state', 'county'], \n",
    "                 var_name='date', \n",
    "                 value_name='values')\n",
    "    df['date'] = pd.to_datetime(df['date'])\n",
    "    return df.set_index(['country_region', 'province_state', 'county', 'date']).sort_index()"
   ]
  },
  {
   "cell_type": "code",
   "execution_count": 4,
   "metadata": {},
   "outputs": [],
   "source": [
    "def get_google_mobility_data(url):\n",
    "    df_mobility = load_data(url)\n",
    "    df_mobility = format_cells(format_columns(df_mobility))\n",
    "    df_mobility.loc[df_mobility['country_region'] == 'Aruba', \n",
    "                    ['country_region', 'province_state']] = ('Netherlands', 'Aruba')\n",
    "    df_mobility.loc[df_mobility['country_region'] == 'Réunion', \n",
    "                    ['country_region', 'province_state']] = ('France', 'Réunion')\n",
    "    df_mobility.loc[df_mobility['country_region'] == 'Hong Kong'\n",
    "                    , ['country_region', 'province_state']] = ('China', 'Hong Kong')\n",
    "    df_mobility['mobility'] = None\n",
    "    cols = df_mobility.columns[-7:-1]\n",
    "    df_mobility['mobility'] = df_mobility[cols].mean(axis=1).round(1)\n",
    "    df_mobility['date'] = pd.to_datetime(df_mobility['date'])\n",
    "    df_mobility = df_mobility.astype({'country_region': str, 'province_state': str, 'county': str})\n",
    "    df_mobility = df_mobility.set_index(['country_region', 'province_state', 'county', 'date']).sort_index()\n",
    "    return df_mobility['mobility']"
   ]
  },
  {
   "cell_type": "code",
   "execution_count": 5,
   "metadata": {},
   "outputs": [],
   "source": [
    "def load_main_dataframe(date=None):\n",
    "    if date is None:\n",
    "        date = datetime.datetime.today().date()\n",
    "    return (pd.read_csv(f'datasets/{date}_df.csv', \n",
    "                       index_col=['country_region', 'province_state', 'county', 'date'],\n",
    "                       parse_dates=True)\n",
    "           .sort_index())"
   ]
  },
  {
   "cell_type": "markdown",
   "metadata": {},
   "source": [
    "# Loading data <a class='anchor' id='loading-data'></a>"
   ]
  },
  {
   "cell_type": "markdown",
   "metadata": {},
   "source": [
    "**Fetch time series**"
   ]
  },
  {
   "cell_type": "code",
   "execution_count": 6,
   "metadata": {},
   "outputs": [
    {
     "name": "stdout",
     "output_type": "stream",
     "text": [
      "Wall time: 12.2 s\n"
     ]
    }
   ],
   "source": [
    "%%time\n",
    "df_global_confirmed = get_time_series_data(url_time_series_covid19_confirmed_global).rename(columns={'values':'confirmed'})\n",
    "df_global_deaths = get_time_series_data(url_time_series_covid19_deaths_global).rename(columns={'values':'deaths'})\n",
    "df_us_confirmed = get_time_series_data(url_time_series_covid19_confirmed_US).rename(columns={'values':'confirmed'})\n",
    "df_us_deaths= get_time_series_data(url_time_series_covid19_deaths_US).rename(columns={'values':'deaths'})\n",
    "\n",
    "df_confirmed = df_global_confirmed.append(df_us_confirmed)\n",
    "df_deaths = df_global_deaths.append(df_us_deaths)\n",
    "df = pd.merge(left=df_confirmed, right=df_deaths, left_index=True, right_index=True, how='inner')"
   ]
  },
  {
   "cell_type": "code",
   "execution_count": 7,
   "metadata": {
    "scrolled": true
   },
   "outputs": [
    {
     "data": {
      "text/html": [
       "<div>\n",
       "<style scoped>\n",
       "    .dataframe tbody tr th:only-of-type {\n",
       "        vertical-align: middle;\n",
       "    }\n",
       "\n",
       "    .dataframe tbody tr th {\n",
       "        vertical-align: top;\n",
       "    }\n",
       "\n",
       "    .dataframe thead th {\n",
       "        text-align: right;\n",
       "    }\n",
       "</style>\n",
       "<table border=\"1\" class=\"dataframe\">\n",
       "  <thead>\n",
       "    <tr style=\"text-align: right;\">\n",
       "      <th></th>\n",
       "      <th></th>\n",
       "      <th>confirmed</th>\n",
       "      <th>deaths</th>\n",
       "    </tr>\n",
       "    <tr>\n",
       "      <th>province_state</th>\n",
       "      <th>county</th>\n",
       "      <th></th>\n",
       "      <th></th>\n",
       "    </tr>\n",
       "  </thead>\n",
       "  <tbody>\n",
       "    <tr>\n",
       "      <td>nan</td>\n",
       "      <td>nan</td>\n",
       "      <td>1851520</td>\n",
       "      <td>107175</td>\n",
       "    </tr>\n",
       "    <tr>\n",
       "      <td rowspan=\"4\" valign=\"top\">Alabama</td>\n",
       "      <td>Autauga</td>\n",
       "      <td>239</td>\n",
       "      <td>5</td>\n",
       "    </tr>\n",
       "    <tr>\n",
       "      <td>Baldwin</td>\n",
       "      <td>292</td>\n",
       "      <td>9</td>\n",
       "    </tr>\n",
       "    <tr>\n",
       "      <td>Barbour</td>\n",
       "      <td>177</td>\n",
       "      <td>1</td>\n",
       "    </tr>\n",
       "    <tr>\n",
       "      <td>Bibb</td>\n",
       "      <td>76</td>\n",
       "      <td>1</td>\n",
       "    </tr>\n",
       "    <tr>\n",
       "      <td>...</td>\n",
       "      <td>...</td>\n",
       "      <td>...</td>\n",
       "      <td>...</td>\n",
       "    </tr>\n",
       "    <tr>\n",
       "      <td rowspan=\"5\" valign=\"top\">Wyoming</td>\n",
       "      <td>Teton</td>\n",
       "      <td>100</td>\n",
       "      <td>0</td>\n",
       "    </tr>\n",
       "    <tr>\n",
       "      <td>Uinta</td>\n",
       "      <td>13</td>\n",
       "      <td>0</td>\n",
       "    </tr>\n",
       "    <tr>\n",
       "      <td>Unassigned</td>\n",
       "      <td>0</td>\n",
       "      <td>16</td>\n",
       "    </tr>\n",
       "    <tr>\n",
       "      <td>Washakie</td>\n",
       "      <td>37</td>\n",
       "      <td>0</td>\n",
       "    </tr>\n",
       "    <tr>\n",
       "      <td>Weston</td>\n",
       "      <td>1</td>\n",
       "      <td>0</td>\n",
       "    </tr>\n",
       "  </tbody>\n",
       "</table>\n",
       "<p>3262 rows × 2 columns</p>\n",
       "</div>"
      ],
      "text/plain": [
       "                           confirmed  deaths\n",
       "province_state county                       \n",
       "nan            nan           1851520  107175\n",
       "Alabama        Autauga           239       5\n",
       "               Baldwin           292       9\n",
       "               Barbour           177       1\n",
       "               Bibb               76       1\n",
       "...                              ...     ...\n",
       "Wyoming        Teton             100       0\n",
       "               Uinta              13       0\n",
       "               Unassigned          0      16\n",
       "               Washakie           37       0\n",
       "               Weston              1       0\n",
       "\n",
       "[3262 rows x 2 columns]"
      ]
     },
     "execution_count": 7,
     "metadata": {},
     "output_type": "execute_result"
    }
   ],
   "source": [
    "idx = pd.IndexSlice\n",
    "df.loc[idx['United States', :, :, '2020-06-03']]"
   ]
  },
  {
   "cell_type": "markdown",
   "metadata": {},
   "source": [
    "**Fill mobility trends in different regions of the world**"
   ]
  },
  {
   "cell_type": "code",
   "execution_count": 8,
   "metadata": {},
   "outputs": [
    {
     "name": "stderr",
     "output_type": "stream",
     "text": [
      "C:\\Users\\Abtin\\Miniconda2\\envs\\py36\\lib\\site-packages\\IPython\\core\\magics\\execution.py:1310: DtypeWarning: Columns (3) have mixed types. Specify dtype option on import or set low_memory=False.\n",
      "  exec(code, glob, local_ns)\n"
     ]
    },
    {
     "name": "stdout",
     "output_type": "stream",
     "text": [
      "Wall time: 19.1 s\n"
     ]
    }
   ],
   "source": [
    "%%time\n",
    "df_mobility = get_google_mobility_data(url_google_mobility_report)"
   ]
  },
  {
   "cell_type": "markdown",
   "metadata": {},
   "source": [
    "Merge mobility with our main dataframe"
   ]
  },
  {
   "cell_type": "code",
   "execution_count": 9,
   "metadata": {},
   "outputs": [
    {
     "name": "stdout",
     "output_type": "stream",
     "text": [
      "Wall time: 6.84 s\n"
     ]
    }
   ],
   "source": [
    "%%time\n",
    "df = pd.merge(left=df, right=df_mobility, left_index=True, right_index=True, how='inner')"
   ]
  },
  {
   "cell_type": "code",
   "execution_count": 10,
   "metadata": {},
   "outputs": [],
   "source": [
    "df = df.sort_index()"
   ]
  },
  {
   "cell_type": "code",
   "execution_count": 11,
   "metadata": {},
   "outputs": [
    {
     "data": {
      "text/html": [
       "<div>\n",
       "<style scoped>\n",
       "    .dataframe tbody tr th:only-of-type {\n",
       "        vertical-align: middle;\n",
       "    }\n",
       "\n",
       "    .dataframe tbody tr th {\n",
       "        vertical-align: top;\n",
       "    }\n",
       "\n",
       "    .dataframe thead th {\n",
       "        text-align: right;\n",
       "    }\n",
       "</style>\n",
       "<table border=\"1\" class=\"dataframe\">\n",
       "  <thead>\n",
       "    <tr style=\"text-align: right;\">\n",
       "      <th></th>\n",
       "      <th></th>\n",
       "      <th></th>\n",
       "      <th></th>\n",
       "      <th>confirmed</th>\n",
       "      <th>deaths</th>\n",
       "      <th>mobility</th>\n",
       "    </tr>\n",
       "    <tr>\n",
       "      <th>country_region</th>\n",
       "      <th>province_state</th>\n",
       "      <th>county</th>\n",
       "      <th>date</th>\n",
       "      <th></th>\n",
       "      <th></th>\n",
       "      <th></th>\n",
       "    </tr>\n",
       "  </thead>\n",
       "  <tbody>\n",
       "    <tr>\n",
       "      <td rowspan=\"3\" valign=\"top\">France</td>\n",
       "      <td rowspan=\"3\" valign=\"top\">nan</td>\n",
       "      <td rowspan=\"3\" valign=\"top\">nan</td>\n",
       "      <td>2020-05-25</td>\n",
       "      <td>180166</td>\n",
       "      <td>28407</td>\n",
       "      <td>-16.3</td>\n",
       "    </tr>\n",
       "    <tr>\n",
       "      <td>2020-05-26</td>\n",
       "      <td>179887</td>\n",
       "      <td>28480</td>\n",
       "      <td>-14.2</td>\n",
       "    </tr>\n",
       "    <tr>\n",
       "      <td>2020-05-27</td>\n",
       "      <td>180044</td>\n",
       "      <td>28546</td>\n",
       "      <td>-14.7</td>\n",
       "    </tr>\n",
       "  </tbody>\n",
       "</table>\n",
       "</div>"
      ],
      "text/plain": [
       "                                                 confirmed  deaths  mobility\n",
       "country_region province_state county date                                   \n",
       "France         nan            nan    2020-05-25     180166   28407     -16.3\n",
       "                                     2020-05-26     179887   28480     -14.2\n",
       "                                     2020-05-27     180044   28546     -14.7"
      ]
     },
     "execution_count": 11,
     "metadata": {},
     "output_type": "execute_result"
    }
   ],
   "source": [
    "df.loc[idx['France', :, :, '2020-05-25': '2020-05-27']]"
   ]
  },
  {
   "cell_type": "markdown",
   "metadata": {},
   "source": [
    "**Calculating *new_confirmed* and *new_deaths***"
   ]
  },
  {
   "cell_type": "code",
   "execution_count": 12,
   "metadata": {},
   "outputs": [
    {
     "name": "stdout",
     "output_type": "stream",
     "text": [
      "Wall time: 18 ms\n"
     ]
    }
   ],
   "source": [
    "%%time\n",
    "df[['new_confirmed', 'new_deaths']] = df[['confirmed', 'deaths']].diff()"
   ]
  },
  {
   "cell_type": "code",
   "execution_count": 13,
   "metadata": {},
   "outputs": [
    {
     "name": "stdout",
     "output_type": "stream",
     "text": [
      "Wall time: 4.09 s\n"
     ]
    }
   ],
   "source": [
    "%%time\n",
    "headindex, tailindex = [], []\n",
    "for name, group in df.groupby(axis='index', level=[0,1,2]):    \n",
    "    headindex.append(group.index.values[0])\n",
    "    tailindex.append(group.index.values[-1])\n",
    "headindex = pd.MultiIndex.from_tuples(headindex)\n",
    "tailindex = pd.MultiIndex.from_tuples(tailindex)"
   ]
  },
  {
   "cell_type": "code",
   "execution_count": 14,
   "metadata": {},
   "outputs": [
    {
     "name": "stdout",
     "output_type": "stream",
     "text": [
      "Wall time: 616 ms\n"
     ]
    }
   ],
   "source": [
    "%%time\n",
    "df.loc[headindex, 'new_confirmed'] = df.loc[headindex, 'confirmed']\n",
    "df.loc[headindex, 'new_deaths'] = df.loc[headindex, 'deaths']"
   ]
  },
  {
   "cell_type": "markdown",
   "metadata": {},
   "source": [
    "**Saving our dataset:**"
   ]
  },
  {
   "cell_type": "code",
   "execution_count": 15,
   "metadata": {},
   "outputs": [],
   "source": [
    "df['new_deaths'] = df['new_deaths'].astype('Int32')\n",
    "df['new_confirmed'] = df['new_confirmed'].astype('Int32')\n",
    "df = df[['mobility', 'confirmed', 'new_confirmed', 'deaths', 'new_deaths']]\n",
    "df.to_csv(f'datasets/{datetime.datetime.today().date()}_df.csv', index=True)"
   ]
  },
  {
   "cell_type": "markdown",
   "metadata": {},
   "source": [
    "# Data Manipulation <a class='anchor' id='manipulation'></a>"
   ]
  },
  {
   "cell_type": "markdown",
   "metadata": {},
   "source": [
    "# Representation <a class='anchor' id='representation'></a>"
   ]
  },
  {
   "cell_type": "code",
   "execution_count": 16,
   "metadata": {},
   "outputs": [],
   "source": [
    "%matplotlib inline"
   ]
  },
  {
   "cell_type": "code",
   "execution_count": 17,
   "metadata": {},
   "outputs": [],
   "source": [
    "df = load_main_dataframe()"
   ]
  },
  {
   "cell_type": "code",
   "execution_count": 18,
   "metadata": {},
   "outputs": [
    {
     "name": "stderr",
     "output_type": "stream",
     "text": [
      "C:\\Users\\Abtin\\Miniconda2\\envs\\py36\\lib\\site-packages\\pandas\\core\\indexing.py:1418: PerformanceWarning: indexing past lexsort depth may impact performance.\n",
      "  return self._getitem_tuple(key)\n"
     ]
    },
    {
     "data": {
      "text/plain": [
       "<matplotlib.axes._subplots.AxesSubplot at 0x1ec5ed90>"
      ]
     },
     "execution_count": 18,
     "metadata": {},
     "output_type": "execute_result"
    },
    {
     "data": {
      "image/png": "[encoded data removed]",
      "text/plain": [
       "<Figure size 576x432 with 1 Axes>"
      ]
     },
     "metadata": {
      "needs_background": "light"
     },
     "output_type": "display_data"
    }
   ],
   "source": [
    "df.loc[idx['United States', 'California', 'Los Angeles'], 'new_deaths'].plot(figsize=(8, 6))"
   ]
  },
  {
   "cell_type": "code",
   "execution_count": 19,
   "metadata": {},
   "outputs": [
    {
     "data": {
      "text/plain": [
       "<matplotlib.axes._subplots.AxesSubplot at 0x1ec36790>"
      ]
     },
     "execution_count": 19,
     "metadata": {},
     "output_type": "execute_result"
    },
    {
     "data": {
      "image/png": "[encoded data removed]",
      "text/plain": [
       "<Figure size 576x432 with 1 Axes>"
      ]
     },
     "metadata": {
      "needs_background": "light"
     },
     "output_type": "display_data"
    }
   ],
   "source": [
    "df.loc[idx['United States', 'California', 'Los Angeles'], 'mobility'].plot(figsize=(8, 6))"
   ]
  }
 ],
 "metadata": {
  "kernelspec": {
   "display_name": "Python 3",
   "language": "python",
   "name": "python3"
  },
  "language_info": {
   "codemirror_mode": {
    "name": "ipython",
    "version": 3
   },
   "file_extension": ".py",
   "mimetype": "text/x-python",
   "name": "python",
   "nbconvert_exporter": "python",
   "pygments_lexer": "ipython3",
   "version": "3.6.9"
  },
  "toc": {
   "base_numbering": 1,
   "nav_menu": {},
   "number_sections": true,
   "sideBar": true,
   "skip_h1_title": false,
   "title_cell": "Table of Contents",
   "title_sidebar": "Contents",
   "toc_cell": false,
   "toc_position": {
    "height": "calc(100% - 180px)",
    "left": "10px",
    "top": "150px",
    "width": "220.6px"
   },
   "toc_section_display": true,
   "toc_window_display": true
  }
 },
 "nbformat": 4,
 "nbformat_minor": 2
}
